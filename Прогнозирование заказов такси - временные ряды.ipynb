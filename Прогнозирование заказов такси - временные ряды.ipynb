{
 "cells": [
  {
   "cell_type": "markdown",
   "source": [
    "## Описание проекта\n",
    "\n",
    "Компания «Чётенькое такси» собрала исторические данные о заказах такси в аэропортах. Чтобы привлекать больше водителей в период пиковой нагрузки, нужно спрогнозировать количество заказов такси на следующий час. Постройте модель для такого предсказания.\n",
    "\n",
    "Значение метрики *RMSE* на тестовой выборке должно быть не больше 48.\n",
    "\n",
    "### Инструкция по выполнению проекта\n",
    "\n",
    "1. Загрузите данные и выполните их ресемплирование по одному часу.\n",
    "2. Проанализируйте данные.\n",
    "3. Обучите разные модели с различными гиперпараметрами. Сделайте тестовую выборку размером 10% от исходных данных.\n",
    "4. Проверьте данные на тестовой выборке и сделайте выводы.\n",
    "\n",
    "### Описание данных\n",
    "\n",
    "Данные лежат в файле `taxi.csv`. Количество заказов находится в столбце '*num_orders*' (от англ. *number of orders*, «число заказов»)."
   ],
   "metadata": {}
  },
  {
   "cell_type": "markdown",
   "source": [
    "# 1. Подготовка"
   ],
   "metadata": {}
  },
  {
   "cell_type": "code",
   "execution_count": 1,
   "source": [
    "import pandas as pd\n",
    "from statsmodels.tsa.seasonal import seasonal_decompose\n",
    "import matplotlib.pyplot as plt\n",
    "from sklearn.model_selection import train_test_split\n",
    "from sklearn.metrics import mean_squared_error\n",
    "from sklearn.linear_model import LinearRegression\n",
    "from sklearn.ensemble import RandomForestRegressor\n",
    "import numpy as np\n",
    "from sklearn.tree import DecisionTreeRegressor"
   ],
   "outputs": [],
   "metadata": {}
  },
  {
   "cell_type": "code",
   "execution_count": 2,
   "source": [
    "data = pd.read_csv('/datasets/taxi.csv', index_col=[0], parse_dates=[0])"
   ],
   "outputs": [],
   "metadata": {}
  },
  {
   "cell_type": "code",
   "execution_count": 3,
   "source": [
    "data = data.resample('1H').sum()"
   ],
   "outputs": [],
   "metadata": {}
  },
  {
   "cell_type": "markdown",
   "source": [
    "# 2. Анализ"
   ],
   "metadata": {}
  },
  {
   "cell_type": "code",
   "execution_count": 4,
   "source": [
    "data.head(3)"
   ],
   "outputs": [
    {
     "output_type": "execute_result",
     "data": {
      "text/plain": [
       "                     num_orders\n",
       "datetime                       \n",
       "2018-03-01 00:00:00         124\n",
       "2018-03-01 01:00:00          85\n",
       "2018-03-01 02:00:00          71"
      ],
      "text/html": [
       "<div>\n",
       "<style scoped>\n",
       "    .dataframe tbody tr th:only-of-type {\n",
       "        vertical-align: middle;\n",
       "    }\n",
       "\n",
       "    .dataframe tbody tr th {\n",
       "        vertical-align: top;\n",
       "    }\n",
       "\n",
       "    .dataframe thead th {\n",
       "        text-align: right;\n",
       "    }\n",
       "</style>\n",
       "<table border=\"1\" class=\"dataframe\">\n",
       "  <thead>\n",
       "    <tr style=\"text-align: right;\">\n",
       "      <th></th>\n",
       "      <th>num_orders</th>\n",
       "    </tr>\n",
       "    <tr>\n",
       "      <th>datetime</th>\n",
       "      <th></th>\n",
       "    </tr>\n",
       "  </thead>\n",
       "  <tbody>\n",
       "    <tr>\n",
       "      <td>2018-03-01 00:00:00</td>\n",
       "      <td>124</td>\n",
       "    </tr>\n",
       "    <tr>\n",
       "      <td>2018-03-01 01:00:00</td>\n",
       "      <td>85</td>\n",
       "    </tr>\n",
       "    <tr>\n",
       "      <td>2018-03-01 02:00:00</td>\n",
       "      <td>71</td>\n",
       "    </tr>\n",
       "  </tbody>\n",
       "</table>\n",
       "</div>"
      ]
     },
     "metadata": {},
     "execution_count": 4
    }
   ],
   "metadata": {}
  },
  {
   "cell_type": "code",
   "execution_count": 5,
   "source": [
    "data.tail(1)"
   ],
   "outputs": [
    {
     "output_type": "execute_result",
     "data": {
      "text/plain": [
       "                     num_orders\n",
       "datetime                       \n",
       "2018-08-31 23:00:00         205"
      ],
      "text/html": [
       "<div>\n",
       "<style scoped>\n",
       "    .dataframe tbody tr th:only-of-type {\n",
       "        vertical-align: middle;\n",
       "    }\n",
       "\n",
       "    .dataframe tbody tr th {\n",
       "        vertical-align: top;\n",
       "    }\n",
       "\n",
       "    .dataframe thead th {\n",
       "        text-align: right;\n",
       "    }\n",
       "</style>\n",
       "<table border=\"1\" class=\"dataframe\">\n",
       "  <thead>\n",
       "    <tr style=\"text-align: right;\">\n",
       "      <th></th>\n",
       "      <th>num_orders</th>\n",
       "    </tr>\n",
       "    <tr>\n",
       "      <th>datetime</th>\n",
       "      <th></th>\n",
       "    </tr>\n",
       "  </thead>\n",
       "  <tbody>\n",
       "    <tr>\n",
       "      <td>2018-08-31 23:00:00</td>\n",
       "      <td>205</td>\n",
       "    </tr>\n",
       "  </tbody>\n",
       "</table>\n",
       "</div>"
      ]
     },
     "metadata": {},
     "execution_count": 5
    }
   ],
   "metadata": {}
  },
  {
   "cell_type": "code",
   "execution_count": 6,
   "source": [
    "data.sample(n=5,random_state=12345)"
   ],
   "outputs": [
    {
     "output_type": "execute_result",
     "data": {
      "text/plain": [
       "                     num_orders\n",
       "datetime                       \n",
       "2018-03-19 15:00:00          48\n",
       "2018-08-01 13:00:00          93\n",
       "2018-06-29 04:00:00          95\n",
       "2018-03-30 02:00:00          45\n",
       "2018-05-10 14:00:00          90"
      ],
      "text/html": [
       "<div>\n",
       "<style scoped>\n",
       "    .dataframe tbody tr th:only-of-type {\n",
       "        vertical-align: middle;\n",
       "    }\n",
       "\n",
       "    .dataframe tbody tr th {\n",
       "        vertical-align: top;\n",
       "    }\n",
       "\n",
       "    .dataframe thead th {\n",
       "        text-align: right;\n",
       "    }\n",
       "</style>\n",
       "<table border=\"1\" class=\"dataframe\">\n",
       "  <thead>\n",
       "    <tr style=\"text-align: right;\">\n",
       "      <th></th>\n",
       "      <th>num_orders</th>\n",
       "    </tr>\n",
       "    <tr>\n",
       "      <th>datetime</th>\n",
       "      <th></th>\n",
       "    </tr>\n",
       "  </thead>\n",
       "  <tbody>\n",
       "    <tr>\n",
       "      <td>2018-03-19 15:00:00</td>\n",
       "      <td>48</td>\n",
       "    </tr>\n",
       "    <tr>\n",
       "      <td>2018-08-01 13:00:00</td>\n",
       "      <td>93</td>\n",
       "    </tr>\n",
       "    <tr>\n",
       "      <td>2018-06-29 04:00:00</td>\n",
       "      <td>95</td>\n",
       "    </tr>\n",
       "    <tr>\n",
       "      <td>2018-03-30 02:00:00</td>\n",
       "      <td>45</td>\n",
       "    </tr>\n",
       "    <tr>\n",
       "      <td>2018-05-10 14:00:00</td>\n",
       "      <td>90</td>\n",
       "    </tr>\n",
       "  </tbody>\n",
       "</table>\n",
       "</div>"
      ]
     },
     "metadata": {},
     "execution_count": 6
    }
   ],
   "metadata": {}
  },
  {
   "cell_type": "code",
   "execution_count": 7,
   "source": [
    "data.info()"
   ],
   "outputs": [
    {
     "output_type": "stream",
     "name": "stdout",
     "text": [
      "<class 'pandas.core.frame.DataFrame'>\n",
      "DatetimeIndex: 4416 entries, 2018-03-01 00:00:00 to 2018-08-31 23:00:00\n",
      "Freq: H\n",
      "Data columns (total 1 columns):\n",
      "num_orders    4416 non-null int64\n",
      "dtypes: int64(1)\n",
      "memory usage: 69.0 KB\n"
     ]
    }
   ],
   "metadata": {}
  },
  {
   "cell_type": "code",
   "execution_count": 8,
   "source": [
    "data.sort_index(inplace=True)"
   ],
   "outputs": [],
   "metadata": {}
  },
  {
   "cell_type": "code",
   "execution_count": 9,
   "source": [
    "data.plot(figsize=(16, 5))"
   ],
   "outputs": [
    {
     "output_type": "execute_result",
     "data": {
      "text/plain": [
       "<matplotlib.axes._subplots.AxesSubplot at 0x7fc29a231fd0>"
      ]
     },
     "metadata": {},
     "execution_count": 9
    },
    {
     "output_type": "display_data",
     "data": {
      "text/plain": [
       "<Figure size 1152x360 with 1 Axes>"
      ],
      "image/png": "[encoded data removed]"
     },
     "metadata": {
      "needs_background": "light"
     }
    }
   ],
   "metadata": {}
  },
  {
   "cell_type": "code",
   "execution_count": 10,
   "source": [
    "x = data['2018-03':'2018-08'].resample('1D').sum()\n",
    "x['rolling_mean'] = x.rolling(7).mean()\n",
    "x.plot(figsize=(16, 5))"
   ],
   "outputs": [
    {
     "output_type": "execute_result",
     "data": {
      "text/plain": [
       "<matplotlib.axes._subplots.AxesSubplot at 0x7fc2999fd210>"
      ]
     },
     "metadata": {},
     "execution_count": 10
    },
    {
     "output_type": "display_data",
     "data": {
      "text/plain": [
       "<Figure size 1152x360 with 1 Axes>"
      ],
      "image/png": "[encoded data removed]"
     },
     "metadata": {
      "needs_background": "light"
     }
    }
   ],
   "metadata": {}
  },
  {
   "cell_type": "code",
   "execution_count": 11,
   "source": [
    "decomposed = seasonal_decompose(data)"
   ],
   "outputs": [],
   "metadata": {}
  },
  {
   "cell_type": "code",
   "execution_count": 12,
   "source": [
    "decomposed.seasonal['2018-03-05':'2018-03-05'].plot(figsize=(16, 5))"
   ],
   "outputs": [
    {
     "output_type": "execute_result",
     "data": {
      "text/plain": [
       "<matplotlib.axes._subplots.AxesSubplot at 0x7fc299b22350>"
      ]
     },
     "metadata": {},
     "execution_count": 12
    },
    {
     "output_type": "display_data",
     "data": {
      "text/plain": [
       "<Figure size 1152x360 with 1 Axes>"
      ],
      "image/png": "[encoded data removed]"
     },
     "metadata": {
      "needs_background": "light"
     }
    }
   ],
   "metadata": {}
  },
  {
   "cell_type": "code",
   "execution_count": 13,
   "source": [
    "decomposed.trend.plot(figsize=(16, 5))"
   ],
   "outputs": [
    {
     "output_type": "execute_result",
     "data": {
      "text/plain": [
       "<matplotlib.axes._subplots.AxesSubplot at 0x7fc299a910d0>"
      ]
     },
     "metadata": {},
     "execution_count": 13
    },
    {
     "output_type": "display_data",
     "data": {
      "text/plain": [
       "<Figure size 1152x360 with 1 Axes>"
      ],
      "image/png": "[encoded data removed]"
     },
     "metadata": {
      "needs_background": "light"
     }
    }
   ],
   "metadata": {}
  },
  {
   "cell_type": "markdown",
   "source": [
    "<div class=\"alert alert-block alert-warning\">\n",
    "<b>Изменения:</b> Сезонности как таковой никакой не наблюдается, даже какого-то увеличения поездок к выходным (если это можно отнести к сезонности). А вот тренд к увеличению поездок с начала летнего сезона виден отчетливо, возможно, к кончу сезона отпусков, количество поездок тоже сократится.\n",
    "</div>"
   ],
   "metadata": {}
  },
  {
   "cell_type": "markdown",
   "source": [
    "<div class=\"alert alert-block alert-info\">\n",
    "<b>Совет (ревью 3):</b> На графике сезонности видно, что присутствует дневная сезонность (графики за каждый день совпадают).\n",
    "</div>"
   ],
   "metadata": {}
  },
  {
   "cell_type": "markdown",
   "source": [
    "# 3. Обучение"
   ],
   "metadata": {}
  },
  {
   "cell_type": "code",
   "execution_count": 14,
   "source": [
    "df = pd.DataFrame([[1]])"
   ],
   "outputs": [],
   "metadata": {}
  },
  {
   "cell_type": "code",
   "execution_count": 15,
   "source": [
    "def make_features(data_f, max_lag, rolling_mean_size):\n",
    "    df = data_f.copy()\n",
    "    df['year'] = df.index.year\n",
    "    df['month'] = df.index.month\n",
    "    df['day'] = df.index.day\n",
    "    df['dayofweek'] = df.index.dayofweek\n",
    "    for lag in range(1, max_lag + 1):\n",
    "        df['lag_{}'.format(lag)] = df['num_orders'].shift(lag)\n",
    "    df['rolling_mean'] = df['num_orders'].shift().rolling(rolling_mean_size).mean()\n",
    "    return df"
   ],
   "outputs": [],
   "metadata": {}
  },
  {
   "cell_type": "markdown",
   "source": [
    "<div class=\"alert alert-block alert-info\">\n",
    "<b>Код ревьюера (ревью 2): </b>\n",
    "</div>"
   ],
   "metadata": {}
  },
  {
   "cell_type": "code",
   "execution_count": 16,
   "source": [
    "import pandas as pd\n",
    "\n",
    "df = pd.DataFrame([[1]])\n",
    "df"
   ],
   "outputs": [
    {
     "output_type": "execute_result",
     "data": {
      "text/plain": [
       "   0\n",
       "0  1"
      ],
      "text/html": [
       "<div>\n",
       "<style scoped>\n",
       "    .dataframe tbody tr th:only-of-type {\n",
       "        vertical-align: middle;\n",
       "    }\n",
       "\n",
       "    .dataframe tbody tr th {\n",
       "        vertical-align: top;\n",
       "    }\n",
       "\n",
       "    .dataframe thead th {\n",
       "        text-align: right;\n",
       "    }\n",
       "</style>\n",
       "<table border=\"1\" class=\"dataframe\">\n",
       "  <thead>\n",
       "    <tr style=\"text-align: right;\">\n",
       "      <th></th>\n",
       "      <th>0</th>\n",
       "    </tr>\n",
       "  </thead>\n",
       "  <tbody>\n",
       "    <tr>\n",
       "      <td>0</td>\n",
       "      <td>1</td>\n",
       "    </tr>\n",
       "  </tbody>\n",
       "</table>\n",
       "</div>"
      ]
     },
     "metadata": {},
     "execution_count": 16
    }
   ],
   "metadata": {}
  },
  {
   "cell_type": "code",
   "execution_count": 17,
   "source": [
    "def plus_one(data):\n",
    "    data_new = data.copy()\n",
    "    data_new = data_new + 1\n",
    "\n",
    "    return data_new"
   ],
   "outputs": [],
   "metadata": {}
  },
  {
   "cell_type": "code",
   "execution_count": 18,
   "source": [
    "df_new = plus_one(df)"
   ],
   "outputs": [],
   "metadata": {}
  },
  {
   "cell_type": "code",
   "execution_count": 19,
   "source": [
    "df"
   ],
   "outputs": [
    {
     "output_type": "execute_result",
     "data": {
      "text/plain": [
       "   0\n",
       "0  1"
      ],
      "text/html": [
       "<div>\n",
       "<style scoped>\n",
       "    .dataframe tbody tr th:only-of-type {\n",
       "        vertical-align: middle;\n",
       "    }\n",
       "\n",
       "    .dataframe tbody tr th {\n",
       "        vertical-align: top;\n",
       "    }\n",
       "\n",
       "    .dataframe thead th {\n",
       "        text-align: right;\n",
       "    }\n",
       "</style>\n",
       "<table border=\"1\" class=\"dataframe\">\n",
       "  <thead>\n",
       "    <tr style=\"text-align: right;\">\n",
       "      <th></th>\n",
       "      <th>0</th>\n",
       "    </tr>\n",
       "  </thead>\n",
       "  <tbody>\n",
       "    <tr>\n",
       "      <td>0</td>\n",
       "      <td>1</td>\n",
       "    </tr>\n",
       "  </tbody>\n",
       "</table>\n",
       "</div>"
      ]
     },
     "metadata": {},
     "execution_count": 19
    }
   ],
   "metadata": {}
  },
  {
   "cell_type": "code",
   "execution_count": 20,
   "source": [
    "df_new"
   ],
   "outputs": [
    {
     "output_type": "execute_result",
     "data": {
      "text/plain": [
       "   0\n",
       "0  2"
      ],
      "text/html": [
       "<div>\n",
       "<style scoped>\n",
       "    .dataframe tbody tr th:only-of-type {\n",
       "        vertical-align: middle;\n",
       "    }\n",
       "\n",
       "    .dataframe tbody tr th {\n",
       "        vertical-align: top;\n",
       "    }\n",
       "\n",
       "    .dataframe thead th {\n",
       "        text-align: right;\n",
       "    }\n",
       "</style>\n",
       "<table border=\"1\" class=\"dataframe\">\n",
       "  <thead>\n",
       "    <tr style=\"text-align: right;\">\n",
       "      <th></th>\n",
       "      <th>0</th>\n",
       "    </tr>\n",
       "  </thead>\n",
       "  <tbody>\n",
       "    <tr>\n",
       "      <td>0</td>\n",
       "      <td>2</td>\n",
       "    </tr>\n",
       "  </tbody>\n",
       "</table>\n",
       "</div>"
      ]
     },
     "metadata": {},
     "execution_count": 20
    }
   ],
   "metadata": {}
  },
  {
   "cell_type": "markdown",
   "source": [
    "<div class=\"alert alert-block alert-info\">\n",
    "<b>Конец кода ревьюера (ревью 2). </b> Исходный датафрейм не изменился.\n",
    "</div>"
   ],
   "metadata": {}
  },
  {
   "cell_type": "markdown",
   "source": [
    "<div class=\"alert alert-block alert-success\">\n",
    "<b>Успех (ревью 3):</b> Теперь все верно, молодец!\n",
    "</div>"
   ],
   "metadata": {}
  },
  {
   "cell_type": "markdown",
   "source": [
    "<div class=\"alert alert-block alert-info\">\n",
    "<b>Совет (ревью 2): </b> Исходя из графика сезонности можно выбрать параметр max_lag таким образом, что качество сильно улучшится. Подсказка: его нужно увеличить.\n",
    "</div>"
   ],
   "metadata": {}
  },
  {
   "cell_type": "markdown",
   "source": [
    "<div class=\"alert alert-block alert-warning\">\n",
    "<b>Изменения:</b> Для модели случайного леса я пробовала разные датафреймы с разными признаками. Дальше есть регрессия и дерево. Все проверяются на валидационной выборке. А на тестовой - только финальный тест.\n",
    "</div>"
   ],
   "metadata": {}
  },
  {
   "cell_type": "code",
   "execution_count": 21,
   "source": [
    "def learning_valid (model, features_train, target_train, features_valid, target_valid):\n",
    "    model.fit(features_train,target_train)\n",
    "    predicted_valid=model.predict(features_valid)\n",
    "    x = mean_squared_error(target_valid,predicted_valid)**0.5\n",
    "    return x"
   ],
   "outputs": [],
   "metadata": {}
  },
  {
   "cell_type": "markdown",
   "source": [
    "<font color='blue'> <b>df_4_4.</b>"
   ],
   "metadata": {}
  },
  {
   "cell_type": "code",
   "execution_count": 22,
   "source": [
    "df_4_4 = make_features(data, 1, 4)"
   ],
   "outputs": [],
   "metadata": {}
  },
  {
   "cell_type": "code",
   "execution_count": 23,
   "source": [
    "df_4_4 = df_4_4.dropna()\n",
    "train_4_4, test_4_4 = train_test_split(df_4_4, shuffle = False, test_size = 0.1)\n",
    "train_4_4, valid_4_4 = train_test_split(train_4_4, shuffle = False, test_size = 0.25)"
   ],
   "outputs": [],
   "metadata": {}
  },
  {
   "cell_type": "code",
   "execution_count": 24,
   "source": [
    "target_train_4_4 = train_4_4['num_orders']\n",
    "features_train_4_4 = train_4_4.drop(['num_orders'],axis=1)"
   ],
   "outputs": [],
   "metadata": {}
  },
  {
   "cell_type": "code",
   "execution_count": 25,
   "source": [
    "target_valid_4_4 = valid_4_4['num_orders']\n",
    "features_valid_4_4 = valid_4_4.drop(['num_orders'],axis=1)                            "
   ],
   "outputs": [],
   "metadata": {}
  },
  {
   "cell_type": "code",
   "execution_count": 26,
   "source": [
    "target_test_4_4 = test_4_4['num_orders'] \n",
    "features_test_4_4 = test_4_4.drop(['num_orders'],axis=1)"
   ],
   "outputs": [],
   "metadata": {}
  },
  {
   "cell_type": "code",
   "execution_count": 27,
   "source": [
    "%%time\n",
    "best_result = 60\n",
    "best_depth = 0\n",
    "best_est = 0\n",
    "for depth in range (15, 22):\n",
    "    for est in range (88, 95):\n",
    "        model_4_4 = RandomForestRegressor(random_state=12345, n_estimators = est, max_depth=depth)\n",
    "        result = learning_valid(model_4_4,features_train_4_4, target_train_4_4, features_valid_4_4, target_valid_4_4)\n",
    "        if result < best_result:\n",
    "            best_result = result\n",
    "            best_depth = depth\n",
    "            best_est = est\n",
    "print('score: ', result, 'глубина: ', best_depth, 'кол-во деревьев: ', best_est)"
   ],
   "outputs": [
    {
     "output_type": "stream",
     "name": "stdout",
     "text": [
      "score:  40.217500481659044 глубина:  15 кол-во деревьев:  88\n",
      "CPU times: user 38.2 s, sys: 138 ms, total: 38.3 s\n",
      "Wall time: 38.7 s\n"
     ]
    }
   ],
   "metadata": {}
  },
  {
   "cell_type": "code",
   "execution_count": 29,
   "source": [
    "predicted_test_4_4=model_4_4.predict(features_test_4_4)\n",
    "print('TEST: ', mean_squared_error(target_test_4_4,predicted_test_4_4)**0.5)"
   ],
   "outputs": [
    {
     "output_type": "stream",
     "name": "stdout",
     "text": [
      "TEST:  61.289679738084\n"
     ]
    }
   ],
   "metadata": {}
  },
  {
   "cell_type": "markdown",
   "source": [
    "<font color='blue'> <b>df_20_4</b>"
   ],
   "metadata": {}
  },
  {
   "cell_type": "code",
   "execution_count": 17,
   "source": [
    "df_20_4 = make_features(data, 20, 4)"
   ],
   "outputs": [],
   "metadata": {}
  },
  {
   "cell_type": "code",
   "execution_count": 34,
   "source": [
    "df_20_4 = df_20_4.dropna()\n",
    "train_20_4, test_20_4 = train_test_split(df_20_4, shuffle = False, test_size = 0.1)\n",
    "train_20_4, valid_20_4 = train_test_split(train_20_4, shuffle = False, test_size = 0.25)"
   ],
   "outputs": [],
   "metadata": {}
  },
  {
   "cell_type": "code",
   "execution_count": 35,
   "source": [
    "target_train_20_4 = train_20_4['num_orders']\n",
    "features_train_20_4 = train_20_4.drop(['num_orders'],axis=1)"
   ],
   "outputs": [],
   "metadata": {}
  },
  {
   "cell_type": "code",
   "execution_count": 36,
   "source": [
    "target_valid_20_4 = valid_20_4['num_orders']\n",
    "features_valid_20_4 = valid_20_4.drop(['num_orders'],axis=1)                            "
   ],
   "outputs": [],
   "metadata": {}
  },
  {
   "cell_type": "code",
   "execution_count": 37,
   "source": [
    "target_test_20_4 = test_20_4['num_orders'] \n",
    "features_test_20_4 = test_20_4.drop(['num_orders'],axis=1)"
   ],
   "outputs": [],
   "metadata": {}
  },
  {
   "cell_type": "code",
   "execution_count": 38,
   "source": [
    "%%time\n",
    "best_result = 60\n",
    "best_depth = 0\n",
    "best_est = 0\n",
    "for depth in range (15, 22):\n",
    "    for est in range (85, 90):\n",
    "        model_20_4 = RandomForestRegressor(random_state=12345, n_estimators = est, max_depth=depth)\n",
    "        result = learning_valid(model_20_4, features_train_20_4, target_train_20_4, features_valid_20_4, target_valid_20_4)\n",
    "        if result < best_result:\n",
    "            best_result = result\n",
    "            best_depth = depth\n",
    "            best_est = est\n",
    "print('score: ', result, 'глубина: ', best_depth, 'кол-во деревьев: ', best_est)"
   ],
   "outputs": [
    {
     "output_type": "stream",
     "name": "stdout",
     "text": [
      "score:  36.425160168492965 глубина:  20 кол-во деревьев:  86\n",
      "CPU times: user 2min 14s, sys: 87.2 ms, total: 2min 14s\n",
      "Wall time: 2min 14s\n"
     ]
    }
   ],
   "metadata": {}
  },
  {
   "cell_type": "code",
   "execution_count": 28,
   "source": [
    "predicted_test_20_4=model_20_4.predict(features_test_20_4)\n",
    "print('TEST: ', mean_squared_error(target_test_20_4,predicted_test_20_4)**0.5)"
   ],
   "outputs": [
    {
     "output_type": "error",
     "ename": "NameError",
     "evalue": "name 'model_20_4' is not defined",
     "traceback": [
      "\u001b[0;31m---------------------------------------------------------------------------\u001b[0m",
      "\u001b[0;31mNameError\u001b[0m                                 Traceback (most recent call last)",
      "\u001b[0;32m<ipython-input-28-31ba000224c9>\u001b[0m in \u001b[0;36m<module>\u001b[0;34m\u001b[0m\n\u001b[0;32m----> 1\u001b[0;31m \u001b[0mpredicted_test_20_4\u001b[0m\u001b[0;34m=\u001b[0m\u001b[0mmodel_20_4\u001b[0m\u001b[0;34m.\u001b[0m\u001b[0mpredict\u001b[0m\u001b[0;34m(\u001b[0m\u001b[0mfeatures_test_20_4\u001b[0m\u001b[0;34m)\u001b[0m\u001b[0;34m\u001b[0m\u001b[0;34m\u001b[0m\u001b[0m\n\u001b[0m\u001b[1;32m      2\u001b[0m \u001b[0mprint\u001b[0m\u001b[0;34m(\u001b[0m\u001b[0;34m'TEST: '\u001b[0m\u001b[0;34m,\u001b[0m \u001b[0mmean_squared_error\u001b[0m\u001b[0;34m(\u001b[0m\u001b[0mtarget_test_20_4\u001b[0m\u001b[0;34m,\u001b[0m\u001b[0mpredicted_test_20_4\u001b[0m\u001b[0;34m)\u001b[0m\u001b[0;34m**\u001b[0m\u001b[0;36m0.5\u001b[0m\u001b[0;34m)\u001b[0m\u001b[0;34m\u001b[0m\u001b[0;34m\u001b[0m\u001b[0m\n",
      "\u001b[0;31mNameError\u001b[0m: name 'model_20_4' is not defined"
     ]
    }
   ],
   "metadata": {}
  },
  {
   "cell_type": "markdown",
   "source": [
    "<font color='blue'> <b>df_10_4</b>"
   ],
   "metadata": {}
  },
  {
   "cell_type": "code",
   "execution_count": 33,
   "source": [
    "df_10_4 = make_features(data, 10, 4)"
   ],
   "outputs": [],
   "metadata": {}
  },
  {
   "cell_type": "code",
   "execution_count": 34,
   "source": [
    "df_10_4 = df_10_4.dropna()\n",
    "train_10_4, test_10_4 = train_test_split(df_10_4, shuffle = False, test_size = 0.1)\n",
    "train_10_4, valid_10_4 = train_test_split(train_10_4, shuffle = False, test_size = 0.25)"
   ],
   "outputs": [],
   "metadata": {}
  },
  {
   "cell_type": "code",
   "execution_count": 35,
   "source": [
    "target_train_10_4 = train_10_4['num_orders']\n",
    "features_train_10_4 = train_10_4.drop(['num_orders'],axis=1)"
   ],
   "outputs": [],
   "metadata": {}
  },
  {
   "cell_type": "code",
   "execution_count": 36,
   "source": [
    "target_valid_10_4 = valid_10_4['num_orders']\n",
    "features_valid_10_4 = valid_10_4.drop(['num_orders'],axis=1)                            "
   ],
   "outputs": [],
   "metadata": {}
  },
  {
   "cell_type": "code",
   "execution_count": 37,
   "source": [
    "target_test_10_4 = test_10_4['num_orders'] \n",
    "features_test_10_4 = test_10_4.drop(['num_orders'],axis=1)"
   ],
   "outputs": [],
   "metadata": {}
  },
  {
   "cell_type": "code",
   "execution_count": 38,
   "source": [
    "%%time\n",
    "best_result = 60\n",
    "best_depth = 0\n",
    "best_est = 0\n",
    "for depth in range (18, 24):\n",
    "    for est in range (81, 88):\n",
    "        model_10_4 = RandomForestRegressor(random_state=12345, n_estimators = est, max_depth=depth)\n",
    "        result = learning_valid(model_10_4, features_train_10_4, target_train_10_4, features_valid_10_4, target_valid_10_4)\n",
    "        if result < best_result:\n",
    "            best_result = result\n",
    "            best_depth = depth\n",
    "            best_est = est\n",
    "print('score: ', result, 'глубина: ', best_depth, 'кол-во деревьев: ', best_est)"
   ],
   "outputs": [
    {
     "output_type": "stream",
     "name": "stdout",
     "text": [
      "score:  36.7636521544572 глубина:  23 кол-во деревьев:  84\n",
      "CPU times: user 1min 33s, sys: 216 ms, total: 1min 33s\n",
      "Wall time: 1min 34s\n"
     ]
    }
   ],
   "metadata": {}
  },
  {
   "cell_type": "code",
   "execution_count": 40,
   "source": [
    "predicted_test_10_4=model_10_4.predict(features_test_10_4)\n",
    "print('TEST: ', mean_squared_error(target_test_10_4,predicted_test_10_4)**0.5)"
   ],
   "outputs": [
    {
     "output_type": "stream",
     "name": "stdout",
     "text": [
      "TEST:  63.85372529066732\n"
     ]
    }
   ],
   "metadata": {}
  },
  {
   "cell_type": "markdown",
   "source": [
    "<font color='blue'> <b>df_4_10</b>"
   ],
   "metadata": {}
  },
  {
   "cell_type": "code",
   "execution_count": 50,
   "source": [
    "df_4_10 = make_features(data, 4, 10)"
   ],
   "outputs": [],
   "metadata": {}
  },
  {
   "cell_type": "code",
   "execution_count": 51,
   "source": [
    "df_4_10 = df_4_10.dropna()\n",
    "train_4_10, test_4_10 = train_test_split(df_4_10, shuffle = False, test_size = 0.1)\n",
    "train_4_10, valid_4_10 = train_test_split(train_4_10, shuffle = False, test_size = 0.25)"
   ],
   "outputs": [],
   "metadata": {}
  },
  {
   "cell_type": "code",
   "execution_count": 52,
   "source": [
    "target_train_4_10 = train_4_10['num_orders']\n",
    "features_train_4_10 = train_4_10.drop(['num_orders'],axis=1)"
   ],
   "outputs": [],
   "metadata": {}
  },
  {
   "cell_type": "code",
   "execution_count": 53,
   "source": [
    "target_valid_4_10 = valid_4_10['num_orders']\n",
    "features_valid_4_10 = valid_4_10.drop(['num_orders'],axis=1)                            "
   ],
   "outputs": [],
   "metadata": {}
  },
  {
   "cell_type": "code",
   "execution_count": 54,
   "source": [
    "target_test_4_10 = test_4_10['num_orders'] \n",
    "features_test_4_10 = test_4_10.drop(['num_orders'],axis=1)"
   ],
   "outputs": [],
   "metadata": {}
  },
  {
   "cell_type": "code",
   "execution_count": 55,
   "source": [
    "%%time\n",
    "best_result = 60\n",
    "best_depth = 0\n",
    "best_est = 0\n",
    "for depth in range (18, 24):\n",
    "    for est in range (81, 88):\n",
    "        model_4_10 = RandomForestRegressor(random_state=12345, n_estimators = est, max_depth=depth)\n",
    "        result = learning_valid(model_4_10, features_train_4_10, target_train_4_10, features_valid_4_10, target_valid_4_10)\n",
    "        if result < best_result:\n",
    "            best_result = result\n",
    "            best_depth = depth\n",
    "            best_est = est\n",
    "print('score: ', result, 'глубина: ', best_depth, 'кол-во деревьев: ', best_est)"
   ],
   "outputs": [
    {
     "output_type": "stream",
     "name": "stdout",
     "text": [
      "score:  40.528157209764416 глубина:  18 кол-во деревьев:  84\n",
      "CPU times: user 55.5 s, sys: 152 ms, total: 55.7 s\n",
      "Wall time: 56.1 s\n"
     ]
    }
   ],
   "metadata": {}
  },
  {
   "cell_type": "code",
   "execution_count": 56,
   "source": [
    "predicted_test_4_10=model_4_10.predict(features_test_4_10)\n",
    "print('TEST: ', mean_squared_error(target_test_4_10,predicted_test_4_10)**0.5)"
   ],
   "outputs": [
    {
     "output_type": "stream",
     "name": "stdout",
     "text": [
      "TEST:  69.08988292801129\n"
     ]
    }
   ],
   "metadata": {}
  },
  {
   "cell_type": "markdown",
   "source": [
    "<font color='blue'> <b>df_10_10</b>"
   ],
   "metadata": {}
  },
  {
   "cell_type": "code",
   "execution_count": 57,
   "source": [
    "df_10_10 = make_features(data, 4, 10)"
   ],
   "outputs": [],
   "metadata": {}
  },
  {
   "cell_type": "code",
   "execution_count": 58,
   "source": [
    "df_10_10 = df_10_10.dropna()\n",
    "train_10_10, test_10_10 = train_test_split(df_10_10, shuffle = False, test_size = 0.1)\n",
    "train_10_10, valid_10_10 = train_test_split(train_10_10, shuffle = False, test_size = 0.25)"
   ],
   "outputs": [],
   "metadata": {}
  },
  {
   "cell_type": "code",
   "execution_count": 59,
   "source": [
    "target_train_10_10 = train_10_10['num_orders']\n",
    "features_train_10_10 = train_10_10.drop(['num_orders'],axis=1)"
   ],
   "outputs": [],
   "metadata": {}
  },
  {
   "cell_type": "code",
   "execution_count": 60,
   "source": [
    "target_valid_10_10 = valid_10_10['num_orders']\n",
    "features_valid_10_10 = valid_10_10.drop(['num_orders'],axis=1)                            "
   ],
   "outputs": [],
   "metadata": {}
  },
  {
   "cell_type": "code",
   "execution_count": 61,
   "source": [
    "target_test_10_10 = test_10_10['num_orders'] \n",
    "features_test_10_10 = test_10_10.drop(['num_orders'],axis=1)"
   ],
   "outputs": [],
   "metadata": {}
  },
  {
   "cell_type": "code",
   "execution_count": 62,
   "source": [
    "%%time\n",
    "best_result = 60\n",
    "best_depth = 0\n",
    "best_est = 0\n",
    "for depth in range (18, 24):\n",
    "    for est in range (81, 88):\n",
    "        model_10_10 = RandomForestRegressor(random_state=12345, n_estimators = est, max_depth=depth)\n",
    "        result = learning_valid(model_10_10, features_train_10_10, target_train_10_10, features_valid_10_10, target_valid_10_10)\n",
    "        if result < best_result:\n",
    "            best_result = result\n",
    "            best_depth = depth\n",
    "            best_est = est\n",
    "print('score: ', result, 'глубина: ', best_depth, 'кол-во деревьев: ', best_est)"
   ],
   "outputs": [
    {
     "output_type": "stream",
     "name": "stdout",
     "text": [
      "score:  40.528157209764416 глубина:  18 кол-во деревьев:  84\n",
      "CPU times: user 55.6 s, sys: 712 ms, total: 56.3 s\n",
      "Wall time: 57 s\n"
     ]
    }
   ],
   "metadata": {}
  },
  {
   "cell_type": "code",
   "execution_count": 63,
   "source": [
    "predicted_test_10_10=model_10_10.predict(features_test_10_10)\n",
    "print('TEST: ', mean_squared_error(target_test_10_10,predicted_test_10_10)**0.5)"
   ],
   "outputs": [
    {
     "output_type": "stream",
     "name": "stdout",
     "text": [
      "TEST:  69.08988292801129\n"
     ]
    }
   ],
   "metadata": {}
  },
  {
   "cell_type": "markdown",
   "source": [
    "<font color='blue'> <b>df_6_3.</b>"
   ],
   "metadata": {}
  },
  {
   "cell_type": "code",
   "execution_count": 64,
   "source": [
    "df_6_3 = make_features(data, 6, 3)"
   ],
   "outputs": [],
   "metadata": {}
  },
  {
   "cell_type": "code",
   "execution_count": 65,
   "source": [
    "df_6_3 = df_6_3.dropna()\n",
    "train_6_3, test_6_3 = train_test_split(df_6_3, shuffle = False, test_size = 0.1)\n",
    "train_6_3, valid_6_3 = train_test_split(train_6_3, shuffle = False, test_size = 0.25)"
   ],
   "outputs": [],
   "metadata": {}
  },
  {
   "cell_type": "code",
   "execution_count": 66,
   "source": [
    "target_train_6_3 = train_6_3['num_orders']\n",
    "features_train_6_3 = train_6_3.drop(['num_orders'],axis=1)"
   ],
   "outputs": [],
   "metadata": {}
  },
  {
   "cell_type": "code",
   "execution_count": 67,
   "source": [
    "target_valid_6_3 = valid_6_3['num_orders']\n",
    "features_valid_6_3 = valid_6_3.drop(['num_orders'],axis=1)                            "
   ],
   "outputs": [],
   "metadata": {}
  },
  {
   "cell_type": "code",
   "execution_count": 68,
   "source": [
    "target_test_6_3 = test_6_3['num_orders'] \n",
    "features_test_6_3 = test_6_3.drop(['num_orders'],axis=1)"
   ],
   "outputs": [],
   "metadata": {}
  },
  {
   "cell_type": "code",
   "execution_count": 69,
   "source": [
    "%%time\n",
    "best_result = 60\n",
    "best_depth = 0\n",
    "best_est = 0\n",
    "for depth in range (15, 22):\n",
    "    for est in range (88, 95):\n",
    "        model_6_3 = RandomForestRegressor(random_state=12345, n_estimators = est, max_depth=depth)\n",
    "        result = learning_valid(model_6_3,features_train_6_3, target_train_6_3, features_valid_6_3, target_valid_6_3)\n",
    "        if result < best_result:\n",
    "            best_result = result\n",
    "            best_depth = depth\n",
    "            best_est = est\n",
    "print('score: ', result, 'глубина: ', best_depth, 'кол-во деревьев: ', best_est)"
   ],
   "outputs": [
    {
     "output_type": "stream",
     "name": "stdout",
     "text": [
      "score:  39.70617907864257 глубина:  16 кол-во деревьев:  92\n",
      "CPU times: user 1min 51s, sys: 372 ms, total: 1min 51s\n",
      "Wall time: 1min 52s\n"
     ]
    }
   ],
   "metadata": {}
  },
  {
   "cell_type": "code",
   "execution_count": 70,
   "source": [
    "predicted_test_6_3=model_6_3.predict(features_test_6_3)\n",
    "print('TEST: ', mean_squared_error(target_test_6_3,predicted_test_6_3)**0.5)"
   ],
   "outputs": [
    {
     "output_type": "stream",
     "name": "stdout",
     "text": [
      "TEST:  67.1802159417634\n"
     ]
    }
   ],
   "metadata": {}
  },
  {
   "cell_type": "markdown",
   "source": [
    "<div class=\"alert alert-block alert-danger\">\n",
    "<b>Ошибка (ревью 2):</b> Подбирать параметры на тесте нельзя, для жтого нужно создать валидационную выборку или использовать метод на основе кросс-валидации. При работе с временными рядами нельзя использовать стандартную кросс-валидацию, так как в определенный момент тренировочная выборка окажется позже валидационной. Для решения этой проблемы стоит использовать <a href=\"https://scikit-learn.org/stable/modules/generated/sklearn.model_selection.TimeSeriesSplit.html\">TimeSeriesSplit</a>. Объект этого типа можно передать в параметр cv в метод основанный на кросс-валидации.\n",
    "</div>"
   ],
   "metadata": {}
  },
  {
   "cell_type": "markdown",
   "source": [
    "<div class=\"alert alert-block alert-warning\">\n",
    "<b>Изменения:</b> Попробовала основные модели с подбором параметров, самый лучший результат - 53 на тестовой выборке показала регрессия. Параметры подбираются на валидационной выборке, финальная проверка - на тестовой. \n",
    "</div>"
   ],
   "metadata": {}
  },
  {
   "cell_type": "markdown",
   "source": [
    "<div class=\"alert alert-block alert-danger\">\n",
    "<b>Ошибка:</b> Пожалуйста, попробуй еще несколько разных моделей и проведи подбор параметров.\n",
    "</div>"
   ],
   "metadata": {}
  },
  {
   "cell_type": "markdown",
   "source": [
    "<font color='blue'> <b>Дерево</b>"
   ],
   "metadata": {}
  },
  {
   "cell_type": "code",
   "execution_count": 102,
   "source": [
    "df_tree = make_features(data,4,3)"
   ],
   "outputs": [],
   "metadata": {}
  },
  {
   "cell_type": "code",
   "execution_count": 103,
   "source": [
    "df_tree = df_tree.dropna()\n",
    "train_tree, test_tree = train_test_split(df_tree, shuffle = False, test_size = 0.1)\n",
    "train_tree, valid_tree = train_test_split(train_tree, shuffle = False, test_size = 0.25)"
   ],
   "outputs": [],
   "metadata": {}
  },
  {
   "cell_type": "code",
   "execution_count": 104,
   "source": [
    "target_train_tree = train_tree['num_orders']\n",
    "features_train_tree = train_tree.drop(['num_orders'],axis=1)"
   ],
   "outputs": [],
   "metadata": {}
  },
  {
   "cell_type": "code",
   "execution_count": 105,
   "source": [
    "target_valid_tree = valid_tree['num_orders']\n",
    "features_valid_tree = valid_tree.drop(['num_orders'],axis=1)                            "
   ],
   "outputs": [],
   "metadata": {}
  },
  {
   "cell_type": "code",
   "execution_count": 106,
   "source": [
    "target_test_tree = test_tree['num_orders'] \n",
    "features_test_tree = test_tree.drop(['num_orders'],axis=1)"
   ],
   "outputs": [],
   "metadata": {}
  },
  {
   "cell_type": "code",
   "execution_count": 107,
   "source": [
    "best_model = None\n",
    "best_result = 1000\n",
    "best_depth = 0\n",
    "for depth in range(1,30):\n",
    "    model_tree = DecisionTreeRegressor(random_state = 12345, max_depth = depth)\n",
    "    result = learning_valid(model_tree, features_train_tree, target_train_tree, features_valid_tree, target_valid_tree)\n",
    "    if result < best_result:\n",
    "        best_model = model\n",
    "        best_result = result\n",
    "        best_depth = depth\n",
    "print('score: ', result, 'глубина: ', best_depth)"
   ],
   "outputs": [
    {
     "output_type": "stream",
     "name": "stdout",
     "text": [
      "score:  51.06779255119969 глубина:  3\n"
     ]
    }
   ],
   "metadata": {}
  },
  {
   "cell_type": "code",
   "execution_count": 108,
   "source": [
    "#make_features(data, 20, 4)\n",
    "predicted_test_tree=model_tree.predict(features_test_tree)\n",
    "print('TEST: ', mean_squared_error(target_test_tree,predicted_test_tree)**0.5)"
   ],
   "outputs": [
    {
     "output_type": "stream",
     "name": "stdout",
     "text": [
      "TEST:  68.68819311426941\n"
     ]
    }
   ],
   "metadata": {}
  },
  {
   "cell_type": "code",
   "execution_count": null,
   "source": [],
   "outputs": [],
   "metadata": {}
  },
  {
   "cell_type": "code",
   "execution_count": null,
   "source": [],
   "outputs": [],
   "metadata": {}
  },
  {
   "cell_type": "code",
   "execution_count": null,
   "source": [],
   "outputs": [],
   "metadata": {}
  },
  {
   "cell_type": "markdown",
   "source": [
    "<font color='blue'> <b>Регрессия</b>"
   ],
   "metadata": {}
  },
  {
   "cell_type": "code",
   "execution_count": 74,
   "source": [
    "df_regr = make_features(data,24,1)"
   ],
   "outputs": [],
   "metadata": {}
  },
  {
   "cell_type": "code",
   "execution_count": 75,
   "source": [
    "df_regr = df_regr.dropna()\n",
    "train_regr, test_regr = train_test_split(df_regr, shuffle = False, test_size = 0.1)\n",
    "#train_regr, valid_regr = train_test_split(train_regr, shuffle = False, test_size = 0.25)"
   ],
   "outputs": [],
   "metadata": {}
  },
  {
   "cell_type": "code",
   "execution_count": 76,
   "source": [
    "target_train_regr = train_regr['num_orders']\n",
    "features_train_regr = train_regr.drop(['num_orders'],axis=1)"
   ],
   "outputs": [],
   "metadata": {}
  },
  {
   "cell_type": "code",
   "execution_count": 77,
   "source": [
    "#target_valid_regr = valid_regr['num_orders']\n",
    "#features_valid_regr = valid_regr.drop(['num_orders'],axis=1)                            "
   ],
   "outputs": [],
   "metadata": {}
  },
  {
   "cell_type": "code",
   "execution_count": 78,
   "source": [
    "target_test_regr = test_regr['num_orders'] \n",
    "features_test_regr = test_regr.drop(['num_orders'],axis=1)"
   ],
   "outputs": [],
   "metadata": {}
  },
  {
   "cell_type": "code",
   "execution_count": 79,
   "source": [
    "model_regr=LinearRegression()"
   ],
   "outputs": [],
   "metadata": {}
  },
  {
   "cell_type": "code",
   "execution_count": 80,
   "source": [
    "#learning_valid(model_regr, features_train_regr, target_train_regr, features_valid_regr, target_valid_regr)"
   ],
   "outputs": [],
   "metadata": {}
  },
  {
   "cell_type": "code",
   "execution_count": 81,
   "source": [
    "model_regr.fit(features_train_regr,target_train_regr)"
   ],
   "outputs": [
    {
     "output_type": "execute_result",
     "data": {
      "text/plain": [
       "LinearRegression(copy_X=True, fit_intercept=True, n_jobs=None, normalize=False)"
      ]
     },
     "metadata": {},
     "execution_count": 81
    }
   ],
   "metadata": {}
  },
  {
   "cell_type": "code",
   "execution_count": 82,
   "source": [
    "predicted_test_regr=model_regr.predict(features_test_regr)\n",
    "print('TEST: ', mean_squared_error(target_test_regr,predicted_test_regr)**0.5)"
   ],
   "outputs": [
    {
     "output_type": "stream",
     "name": "stdout",
     "text": [
      "TEST:  45.54244745506194\n"
     ]
    }
   ],
   "metadata": {}
  },
  {
   "cell_type": "markdown",
   "source": [
    "# 4. Тестирование"
   ],
   "metadata": {}
  },
  {
   "cell_type": "code",
   "execution_count": 24,
   "source": [
    "pred_median = np.ones(test.shape) * train['num_orders'].median()\n",
    "print(\"RMSE, константа:\", mean_squared_error(test, pred_median)**0.5)"
   ],
   "outputs": [
    {
     "output_type": "stream",
     "name": "stdout",
     "text": [
      "RMSE, константа: 389.8833943836639\n"
     ]
    }
   ],
   "metadata": {}
  },
  {
   "cell_type": "markdown",
   "source": [
    "<font color='blue'> <b>Вывод.</b>\n",
    "Данные, полученные от компании «Чётенькое такси», были изучены. По данным на графике виден тренд на увеличение количеств поездок, возможно это связано с сезонностью отпусков августа, но об этом можно будет судить, когда данных станет больше. Для обучения моделей были добавлены признаки. Модели случайный лес и линейная регрессия при обучении обе показали хорошие результаты."
   ],
   "metadata": {}
  },
  {
   "cell_type": "markdown",
   "source": [
    "# Чек-лист проверки"
   ],
   "metadata": {}
  },
  {
   "cell_type": "markdown",
   "source": [
    "- [x]  Jupyter Notebook открыт\n",
    "- [ ]  Весь код выполняется без ошибок\n",
    "- [ ]  Ячейки с кодом расположены в порядке исполнения\n",
    "- [ ]  Данные загружены и подготовлены\n",
    "- [ ]  Данные проанализированы\n",
    "- [ ]  Модель обучена, гиперпараметры подобраны\n",
    "- [ ]  Качество моделей проверено, выводы сделаны\n",
    "- [ ]  Значение *RMSE* на тестовой выборке не больше 48"
   ],
   "metadata": {}
  }
 ],
 "metadata": {
  "kernelspec": {
   "display_name": "Python 3",
   "language": "python",
   "name": "python3"
  },
  "language_info": {
   "codemirror_mode": {
    "name": "ipython",
    "version": 3
   },
   "file_extension": ".py",
   "mimetype": "text/x-python",
   "name": "python",
   "nbconvert_exporter": "python",
   "pygments_lexer": "ipython3",
   "version": "3.7.8"
  },
  "toc": {
   "base_numbering": 1,
   "nav_menu": {},
   "number_sections": true,
   "sideBar": true,
   "skip_h1_title": true,
   "title_cell": "Table of Contents",
   "title_sidebar": "Contents",
   "toc_cell": false,
   "toc_position": {},
   "toc_section_display": true,
   "toc_window_display": false
  }
 },
 "nbformat": 4,
 "nbformat_minor": 2
}
