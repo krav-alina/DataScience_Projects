{
 "cells": [
  {
   "cell_type": "markdown",
   "source": [
    "Вам нужно защитить данные клиентов страховой компании «Хоть потоп». Разработайте такой метод преобразования данных, чтобы по ним было сложно восстановить персональную информацию. Обоснуйте корректность его работы.\n",
    "\n",
    "Нужно защитить данные, чтобы при преобразовании качество моделей машинного обучения не ухудшилось. Подбирать наилучшую модель не требуется."
   ],
   "metadata": {}
  },
  {
   "cell_type": "markdown",
   "source": [
    "<div class=\"alert alert-block alert-warning\">\n",
    "<b>Комментарий ревьюера</b>\n",
    "\n",
    "Введение хорошее, однако было бы здорово добавить название проекта и дать содержание/шаги проекта.\n",
    "\n",
    "</div>\n"
   ],
   "metadata": {}
  },
  {
   "cell_type": "markdown",
   "source": [
    "## 1. Загрузка данных"
   ],
   "metadata": {}
  },
  {
   "cell_type": "code",
   "execution_count": 1,
   "source": [
    "import pandas as pd\r\n",
    "import numpy as np\r\n",
    "from sklearn.model_selection import train_test_split\r\n",
    "from sklearn.linear_model import LinearRegression\r\n",
    "from sklearn.metrics import r2_score"
   ],
   "outputs": [],
   "metadata": {}
  },
  {
   "cell_type": "code",
   "execution_count": 2,
   "source": [
    "data = pd.read_csv('/datasets/insurance.csv')\r\n",
    "data.head()"
   ],
   "outputs": [
    {
     "output_type": "execute_result",
     "data": {
      "text/plain": [
       "   Пол  Возраст  Зарплата  Члены семьи  Страховые выплаты\n",
       "0    1     41.0   49600.0            1                  0\n",
       "1    0     46.0   38000.0            1                  1\n",
       "2    0     29.0   21000.0            0                  0\n",
       "3    0     21.0   41700.0            2                  0\n",
       "4    1     28.0   26100.0            0                  0"
      ],
      "text/html": [
       "<div>\n",
       "<style scoped>\n",
       "    .dataframe tbody tr th:only-of-type {\n",
       "        vertical-align: middle;\n",
       "    }\n",
       "\n",
       "    .dataframe tbody tr th {\n",
       "        vertical-align: top;\n",
       "    }\n",
       "\n",
       "    .dataframe thead th {\n",
       "        text-align: right;\n",
       "    }\n",
       "</style>\n",
       "<table border=\"1\" class=\"dataframe\">\n",
       "  <thead>\n",
       "    <tr style=\"text-align: right;\">\n",
       "      <th></th>\n",
       "      <th>Пол</th>\n",
       "      <th>Возраст</th>\n",
       "      <th>Зарплата</th>\n",
       "      <th>Члены семьи</th>\n",
       "      <th>Страховые выплаты</th>\n",
       "    </tr>\n",
       "  </thead>\n",
       "  <tbody>\n",
       "    <tr>\n",
       "      <td>0</td>\n",
       "      <td>1</td>\n",
       "      <td>41.0</td>\n",
       "      <td>49600.0</td>\n",
       "      <td>1</td>\n",
       "      <td>0</td>\n",
       "    </tr>\n",
       "    <tr>\n",
       "      <td>1</td>\n",
       "      <td>0</td>\n",
       "      <td>46.0</td>\n",
       "      <td>38000.0</td>\n",
       "      <td>1</td>\n",
       "      <td>1</td>\n",
       "    </tr>\n",
       "    <tr>\n",
       "      <td>2</td>\n",
       "      <td>0</td>\n",
       "      <td>29.0</td>\n",
       "      <td>21000.0</td>\n",
       "      <td>0</td>\n",
       "      <td>0</td>\n",
       "    </tr>\n",
       "    <tr>\n",
       "      <td>3</td>\n",
       "      <td>0</td>\n",
       "      <td>21.0</td>\n",
       "      <td>41700.0</td>\n",
       "      <td>2</td>\n",
       "      <td>0</td>\n",
       "    </tr>\n",
       "    <tr>\n",
       "      <td>4</td>\n",
       "      <td>1</td>\n",
       "      <td>28.0</td>\n",
       "      <td>26100.0</td>\n",
       "      <td>0</td>\n",
       "      <td>0</td>\n",
       "    </tr>\n",
       "  </tbody>\n",
       "</table>\n",
       "</div>"
      ]
     },
     "metadata": {},
     "execution_count": 2
    }
   ],
   "metadata": {}
  },
  {
   "cell_type": "code",
   "execution_count": 3,
   "source": [
    "data.info()"
   ],
   "outputs": [
    {
     "output_type": "stream",
     "name": "stdout",
     "text": [
      "<class 'pandas.core.frame.DataFrame'>\n",
      "RangeIndex: 5000 entries, 0 to 4999\n",
      "Data columns (total 5 columns):\n",
      "Пол                  5000 non-null int64\n",
      "Возраст              5000 non-null float64\n",
      "Зарплата             5000 non-null float64\n",
      "Члены семьи          5000 non-null int64\n",
      "Страховые выплаты    5000 non-null int64\n",
      "dtypes: float64(2), int64(3)\n",
      "memory usage: 195.4 KB\n"
     ]
    }
   ],
   "metadata": {}
  },
  {
   "cell_type": "code",
   "execution_count": 4,
   "source": [
    "data.duplicated().sum()"
   ],
   "outputs": [
    {
     "output_type": "execute_result",
     "data": {
      "text/plain": [
       "153"
      ]
     },
     "metadata": {},
     "execution_count": 4
    }
   ],
   "metadata": {}
  },
  {
   "cell_type": "code",
   "execution_count": 5,
   "source": [
    "data = data.drop_duplicates().reset_index(drop= True)"
   ],
   "outputs": [],
   "metadata": {}
  },
  {
   "cell_type": "markdown",
   "source": [
    "<div class=\"alert alert-block alert-success\">\n",
    "<b>Комментарий ревьюера</b>\n",
    "\n",
    "Хороший первый взгляд на данные. Также в начале полезно провести небольшой анализ данных (несмотря на то, что проект небольшой и в целом это не требуется). Нет ли каких-либо аномальных значений, например, в возрасте или зарплате, как распределен целевой признак.\n",
    "\n",
    "</div>"
   ],
   "metadata": {}
  },
  {
   "cell_type": "markdown",
   "source": [
    "## 2. Умножение матриц"
   ],
   "metadata": {}
  },
  {
   "cell_type": "markdown",
   "source": [
    "Признаки умножают на обратимую матрицу. Изменится ли качество линейной регрессии? (Её можно обучить заново.)\n",
    "a. Изменится. Приведите примеры матриц.\n",
    "b. Не изменится. Укажите, как связаны параметры линейной регрессии в исходной задаче и в преобразованной."
   ],
   "metadata": {}
  },
  {
   "cell_type": "markdown",
   "source": [
    "В этом задании вы можете записывать формулы в *Jupyter Notebook.*\n",
    "\n",
    "Чтобы записать формулу внутри текста, окружите её символами доллара \\\\$; если снаружи —  двойными символами \\\\$\\\\$. Эти формулы записываются на языке вёрстки *LaTeX.* \n",
    "\n",
    "Для примера мы записали формулы линейной регрессии. Можете их скопировать и отредактировать, чтобы решить задачу.\n",
    "\n",
    "Работать в *LaTeX* необязательно."
   ],
   "metadata": {}
  },
  {
   "cell_type": "markdown",
   "source": [
    "Обозначения:\n",
    "\n",
    "- $X$ — матрица признаков (нулевой столбец состоит из единиц)\n",
    "\n",
    "- $y$ — вектор целевого признака\n",
    "\n",
    "- $P$ — матрица, на которую умножаются признаки\n",
    "\n",
    "- $w$ — вектор весов линейной регрессии (нулевой элемент равен сдвигу)"
   ],
   "metadata": {}
  },
  {
   "cell_type": "markdown",
   "source": [
    "Предсказания:\n",
    "\n",
    "$$\n",
    "a = Xw\n",
    "$$\n",
    "\n",
    "Задача обучения:\n",
    "\n",
    "$$\n",
    "w = \\arg\\min_w MSE(Xw, y)\n",
    "$$\n",
    "\n",
    "Формула обучения:\n",
    "\n",
    "$$\n",
    "w = (X^T X)^{-1} X^T y\n",
    "$$\n",
    "\n",
    "Решение:\n",
    "\n",
    "$$\n",
    "((XP)^T XP)^{-1} (XP)^T y = (P^T X^T XP)^{-1} (P^T X^T)y = ((P^T X^T )XP)^{-1} (P^T X^T)y = (XP)^{-1} (P^T X^T)^{-1} (P^T X^T )y = (XP)^{-1} Ey =  (XP)^{-1} y\n",
    "$$\n",
    "\n",
    "\n",
    "<font color='orange'>\n",
    "Хм, по доказательству, приведенному тобой, записываю ниже результат:\n",
    "\n",
    "\n",
    "$$\n",
    "((XP)^T XP)^{-1} (XP)^T y = (P^T X^T XP)^{-1} (P^T X^T)y = (P^T (X^T X)P)^{-1} (P^T X^T)y = P^{-1} (X^T X)^{-1} (P^T )^{-1} (P^T X^T )y = P^{-1} (X^T X)^{-1} E (X^T y) = P^{-1} (X^T X)^{-1} (X^T y)\n",
    "$$\n",
    "\n",
    "</font>\n",
    "\n",
    "Соответственно:\n",
    "\n",
    "$$\n",
    "w = (XP)^{-1} y\n",
    "$$"
   ],
   "metadata": {}
  },
  {
   "cell_type": "markdown",
   "source": [
    "<div class=\"alert alert-block alert-warning\">\n",
    "<b>Комментарий ревьюера (v2)</b>\n",
    "\n",
    "Преобразования теперь верны, и тогда получается, что это выражение неверное $w = (XP)^{-1} y$. По итогу новый вектор весов $w_P$ у нас имеет такой вид:\n",
    "\n",
    "$$\n",
    "w_P = P^{-1} (X^T X)^{-1} (X^T y) =  P^{-1} (X^T X)^{-1} X^T y\n",
    "$$\n",
    "\n",
    "Правая часть выражения это есть изначальный вектор весов $w = (X^T X)^{-1} X^T y$. Итого имеем:\n",
    "\n",
    "$$\n",
    "w_P =  P^{-1} (X^T X)^{-1} X^T y =  P^{-1} w\n",
    "$$\n",
    "\n",
    "Матрица признаков после умножения на матрицу $P$ имеет такой вид $X_P = XP$. Подставив данные выражения в формулу предсказания имеем:\n",
    "    \n",
    "$$\n",
    "a_P =  XP P^{-1} w = X E w = Xw = a \\\\\n",
    "a_P = a\n",
    "$$\n",
    "\n",
    "</div>\n"
   ],
   "metadata": {}
  },
  {
   "cell_type": "markdown",
   "source": [
    "**Ответ:** b. Не изменится\n",
    "\n",
    "**Обоснование:** С помощью преобразований получаем результат формулы регрессии y = wXP , то есть в формуле отсутствует сдвиг и присутствует матрица, на которую домножали. "
   ],
   "metadata": {}
  },
  {
   "cell_type": "markdown",
   "source": [
    "<div class=\"alert alert-block alert-danger\">\n",
    "<b>Комментарий ревьюера</b>\n",
    "\n",
    "<s>Ответ верный, однако в обосновании есть некоторые неточности. Привожу ниже формулы.\n",
    "\n",
    "    \n",
    "<div  align='center'>\n",
    "<p style='border: 2px solid black; padding: 15px; width: 30%' >\n",
    "$$\n",
    "(A \\cdot B)^{-1} = B^{-1} \\cdot A^{-1} \\\\\n",
    "(A^T)^{-1} = (A^{-1})^T\n",
    "$$\n",
    "</p>\n",
    "</div>\n",
    "    \n",
    "    \n",
    "<div style='margin: 5px' align='center'>\n",
    "<p style='border: 2px solid black; padding: 15px; width: 30%' >\n",
    "$$\n",
    "A \\cdot (B \\cdot C) = (A \\cdot B) \\cdot C \\\\\n",
    "A \\cdot B \\neq B \\cdot A \\\\\n",
    "(A \\cdot B)^T = B^T \\cdot A^T \\\\\n",
    "$$\n",
    "</p>\n",
    "</div>\n",
    "    \n",
    "Но так как матрицы $X$ и $X^T$, а также $(XP)^T$ и $XP$, прямогульные, то обратных матриц у них нет, то есть открывать скобки так нельзя:\n",
    "    \n",
    "$$\n",
    "(X^T X)^{-1} \\neq (X^T)^{-1} X^{-1}\n",
    "$$  \n",
    "    \n",
    "$$\n",
    "((XP)^T(XP))^{-1} \\neq ((XP)^T)^{-1}(XP)^{-1}\n",
    "$$\n",
    "\n",
    "Здесь для второго выражения более правильный подход такой. То есть  после того как раскрывается внутреннее транспонирование сначала группируем в три квадратные матрицы, а потом раскрываем скобки:\n",
    "\n",
    "$$\n",
    "((XP)^T(XP))^{-1} = (P^T  X^T  X  P)^{-1} = (P^T  (X^T  X)  P)^{-1} = P^{-1}  (X^T  X)^{-1}  (P^T)^{-1}\n",
    "$$\n",
    "\n",
    "    \n",
    "</div>\n"
   ],
   "metadata": {}
  },
  {
   "cell_type": "markdown",
   "source": [
    "## 3. Алгоритм преобразования"
   ],
   "metadata": {}
  },
  {
   "cell_type": "markdown",
   "source": [
    "Предложите алгоритм преобразования данных для решения задачи. Обоснуйте, почему качество линейной регрессии не поменяется."
   ],
   "metadata": {}
  },
  {
   "cell_type": "markdown",
   "source": [
    "**Алгоритм**\n",
    "\n",
    "Алгоритм шифрования - это умножение матрицы признаков на матрицу Р, которая квадратна и обратима."
   ],
   "metadata": {}
  },
  {
   "cell_type": "markdown",
   "source": [
    "<div class=\"alert alert-block alert-warning\">\n",
    "<b>Комментарий ревьюера</b>\n",
    "\n",
    "Здесь преполагается записать алгоритм в таком виде:\n",
    "\n",
    "1. Создадим...\n",
    "2. Проверим...\n",
    "3. Умножим... и т.д.\n",
    "\n",
    "</div>"
   ],
   "metadata": {}
  },
  {
   "cell_type": "markdown",
   "source": [
    "**Обоснование**\n",
    "\n",
    "Обоснование - доказательство в шаге 2."
   ],
   "metadata": {}
  },
  {
   "cell_type": "markdown",
   "source": [
    "## 4. Проверка алгоритма"
   ],
   "metadata": {}
  },
  {
   "cell_type": "markdown",
   "source": [
    "Здесь создала рандомно матрицу, на которую умножала наши признаки для проверки модели. Обучила модель на изначальных и зашифрованных признаках, r2 получился одинаковый(с минимальными погрежностями)\n"
   ],
   "metadata": {}
  },
  {
   "cell_type": "code",
   "execution_count": 7,
   "source": [
    "matrix1 = np.random.normal(size=(4,4)) "
   ],
   "outputs": [],
   "metadata": {}
  },
  {
   "cell_type": "code",
   "execution_count": 8,
   "source": [
    "np.linalg.inv(matrix1)"
   ],
   "outputs": [
    {
     "output_type": "execute_result",
     "data": {
      "text/plain": [
       "array([[ 3.83722618, -1.13068861, -0.14782676, -2.87029953],\n",
       "       [-4.33130539,  1.88741455,  0.65174788,  3.34713601],\n",
       "       [ 1.30489549, -0.55553322, -0.9063947 , -0.80245457],\n",
       "       [ 1.4697278 , -0.49397623,  0.46577949, -0.40090971]])"
      ]
     },
     "metadata": {},
     "execution_count": 8
    }
   ],
   "metadata": {}
  },
  {
   "cell_type": "code",
   "execution_count": null,
   "source": [],
   "outputs": [],
   "metadata": {}
  },
  {
   "cell_type": "markdown",
   "source": [
    "<div class=\"alert alert-block alert-success\">\n",
    "<b>Комментарий ревьюера</b>\n",
    "\n",
    "Отлично, проверка на обратимость есть! Было здорово реализовать ее генерацию и проверку на обратимость с помощью функции или цикла (то есть если сгенерировалась необратимая матрица, то генерируем другую автоматически).\n",
    "\n",
    "</div>\n"
   ],
   "metadata": {}
  },
  {
   "cell_type": "markdown",
   "source": [
    "<div class=\"alert alert-block alert-danger\">\n",
    "<b>Комментарий ревьюера</b>\n",
    "\n",
    "<s>Однако в данном случае правильнее создать рандомную матрицу и проверить ее на обратимость. Данные же умножать на изначальную матрицу. А чтобы расшифровать данные - надо зашифрованные данные умножить на обратную матрицу.\n",
    "\n",
    "</div>\n"
   ],
   "metadata": {}
  },
  {
   "cell_type": "markdown",
   "source": [
    "<div class=\"alert alert-block alert-success\">\n",
    "<b>Комментарий ревьюера (v2)</b>\n",
    "\n",
    "👍\n",
    "\n",
    "</div>\n"
   ],
   "metadata": {}
  },
  {
   "cell_type": "markdown",
   "source": [
    "<font color='orange'> Все, данные умножаются на исходную матрицу"
   ],
   "metadata": {}
  },
  {
   "cell_type": "code",
   "execution_count": 9,
   "source": [
    "features = data.drop(['Страховые выплаты'], axis = 1)\n",
    "target = data['Страховые выплаты']"
   ],
   "outputs": [],
   "metadata": {}
  },
  {
   "cell_type": "code",
   "execution_count": 10,
   "source": [
    "features"
   ],
   "outputs": [
    {
     "output_type": "execute_result",
     "data": {
      "text/plain": [
       "      Пол  Возраст  Зарплата  Члены семьи\n",
       "0       1     41.0   49600.0            1\n",
       "1       0     46.0   38000.0            1\n",
       "2       0     29.0   21000.0            0\n",
       "3       0     21.0   41700.0            2\n",
       "4       1     28.0   26100.0            0\n",
       "...   ...      ...       ...          ...\n",
       "4842    0     28.0   35700.0            2\n",
       "4843    0     34.0   52400.0            1\n",
       "4844    0     20.0   33900.0            2\n",
       "4845    1     22.0   32700.0            3\n",
       "4846    1     28.0   40600.0            1\n",
       "\n",
       "[4847 rows x 4 columns]"
      ],
      "text/html": [
       "<div>\n",
       "<style scoped>\n",
       "    .dataframe tbody tr th:only-of-type {\n",
       "        vertical-align: middle;\n",
       "    }\n",
       "\n",
       "    .dataframe tbody tr th {\n",
       "        vertical-align: top;\n",
       "    }\n",
       "\n",
       "    .dataframe thead th {\n",
       "        text-align: right;\n",
       "    }\n",
       "</style>\n",
       "<table border=\"1\" class=\"dataframe\">\n",
       "  <thead>\n",
       "    <tr style=\"text-align: right;\">\n",
       "      <th></th>\n",
       "      <th>Пол</th>\n",
       "      <th>Возраст</th>\n",
       "      <th>Зарплата</th>\n",
       "      <th>Члены семьи</th>\n",
       "    </tr>\n",
       "  </thead>\n",
       "  <tbody>\n",
       "    <tr>\n",
       "      <td>0</td>\n",
       "      <td>1</td>\n",
       "      <td>41.0</td>\n",
       "      <td>49600.0</td>\n",
       "      <td>1</td>\n",
       "    </tr>\n",
       "    <tr>\n",
       "      <td>1</td>\n",
       "      <td>0</td>\n",
       "      <td>46.0</td>\n",
       "      <td>38000.0</td>\n",
       "      <td>1</td>\n",
       "    </tr>\n",
       "    <tr>\n",
       "      <td>2</td>\n",
       "      <td>0</td>\n",
       "      <td>29.0</td>\n",
       "      <td>21000.0</td>\n",
       "      <td>0</td>\n",
       "    </tr>\n",
       "    <tr>\n",
       "      <td>3</td>\n",
       "      <td>0</td>\n",
       "      <td>21.0</td>\n",
       "      <td>41700.0</td>\n",
       "      <td>2</td>\n",
       "    </tr>\n",
       "    <tr>\n",
       "      <td>4</td>\n",
       "      <td>1</td>\n",
       "      <td>28.0</td>\n",
       "      <td>26100.0</td>\n",
       "      <td>0</td>\n",
       "    </tr>\n",
       "    <tr>\n",
       "      <td>...</td>\n",
       "      <td>...</td>\n",
       "      <td>...</td>\n",
       "      <td>...</td>\n",
       "      <td>...</td>\n",
       "    </tr>\n",
       "    <tr>\n",
       "      <td>4842</td>\n",
       "      <td>0</td>\n",
       "      <td>28.0</td>\n",
       "      <td>35700.0</td>\n",
       "      <td>2</td>\n",
       "    </tr>\n",
       "    <tr>\n",
       "      <td>4843</td>\n",
       "      <td>0</td>\n",
       "      <td>34.0</td>\n",
       "      <td>52400.0</td>\n",
       "      <td>1</td>\n",
       "    </tr>\n",
       "    <tr>\n",
       "      <td>4844</td>\n",
       "      <td>0</td>\n",
       "      <td>20.0</td>\n",
       "      <td>33900.0</td>\n",
       "      <td>2</td>\n",
       "    </tr>\n",
       "    <tr>\n",
       "      <td>4845</td>\n",
       "      <td>1</td>\n",
       "      <td>22.0</td>\n",
       "      <td>32700.0</td>\n",
       "      <td>3</td>\n",
       "    </tr>\n",
       "    <tr>\n",
       "      <td>4846</td>\n",
       "      <td>1</td>\n",
       "      <td>28.0</td>\n",
       "      <td>40600.0</td>\n",
       "      <td>1</td>\n",
       "    </tr>\n",
       "  </tbody>\n",
       "</table>\n",
       "<p>4847 rows × 4 columns</p>\n",
       "</div>"
      ]
     },
     "metadata": {},
     "execution_count": 10
    }
   ],
   "metadata": {}
  },
  {
   "cell_type": "code",
   "execution_count": 11,
   "source": [
    "features1 = features@matrix1"
   ],
   "outputs": [],
   "metadata": {}
  },
  {
   "cell_type": "code",
   "execution_count": 12,
   "source": [
    "features1.columns=['Пол', 'Возраст', 'Зарплата', 'Члены семьи']"
   ],
   "outputs": [],
   "metadata": {}
  },
  {
   "cell_type": "code",
   "execution_count": 13,
   "source": [
    "def x(features,target):\n",
    "    features_train,features_valid,target_train,target_valid = train_test_split(features, target, test_size = 0.25,random_state=12345)\n",
    "    model = LinearRegression()\n",
    "    model.fit(features_train,target_train)\n",
    "    prediction=model.predict(features_valid)\n",
    "    result = r2_score(target_valid,prediction)\n",
    "    print('r2', result)"
   ],
   "outputs": [],
   "metadata": {}
  },
  {
   "cell_type": "code",
   "execution_count": 14,
   "source": [
    "x(features,target)"
   ],
   "outputs": [
    {
     "output_type": "stream",
     "name": "stdout",
     "text": [
      "r2 0.42307727492147296\n"
     ]
    }
   ],
   "metadata": {}
  },
  {
   "cell_type": "code",
   "execution_count": 15,
   "source": [
    "x(features1,target)"
   ],
   "outputs": [
    {
     "output_type": "stream",
     "name": "stdout",
     "text": [
      "r2 0.42307727492147396\n"
     ]
    }
   ],
   "metadata": {}
  },
  {
   "cell_type": "markdown",
   "source": [
    "<div class=\"alert alert-block alert-success\">\n",
    "<b>Комментарий ревьюера</b>\n",
    "\n",
    "Результат подтвержден экспериментально, осталось математически 😉\n",
    "\n",
    "</div>\n"
   ],
   "metadata": {}
  },
  {
   "cell_type": "markdown",
   "source": [
    "<div class=\"alert alert-block alert-danger\">\n",
    "<b>Комментарий ревьюера</b>\n",
    "\n",
    "<s>Пожалуйста, добавь краткий вывод по итогам проекта. \n",
    "\n",
    "</div>\n"
   ],
   "metadata": {}
  },
  {
   "cell_type": "markdown",
   "source": [
    "# <font color='violet'>Вывод"
   ],
   "metadata": {}
  },
  {
   "cell_type": "markdown",
   "source": [
    "<font color='violet'> В данном проекте стояла задача защитить лданные с помощью шифрования. Задача была успешно реализована посредством выполения умножения данных на рандомную матрицу с требованиями обратимости и квадратности. К данному способу шифрования наводил сам проект в самом начале, посредством проведенных теоретических доказательств было утсановлено, что данные, при умножении на такую матрицу, не поменяются, что мы и подтвердили в дальнейшем на практике при проверке метрики r2 нашей модели. "
   ],
   "metadata": {}
  },
  {
   "cell_type": "markdown",
   "source": [
    "<div class=\"alert alert-block alert-success\">\n",
    "<b>Комментарий ревьюера (v2)</b>\n",
    "\n",
    "Отлично.\n",
    "\n",
    "</div>\n"
   ],
   "metadata": {}
  },
  {
   "cell_type": "markdown",
   "source": [
    "## Чек-лист проверки"
   ],
   "metadata": {}
  },
  {
   "cell_type": "markdown",
   "source": [
    "Поставьте 'x' в выполненных пунктах. Далее нажмите Shift+Enter."
   ],
   "metadata": {}
  },
  {
   "cell_type": "markdown",
   "source": [
    "- [x]  Jupyter Notebook открыт\n",
    "- [x]  Весь код выполняется без ошибок\n",
    "- [x]  Ячейки с кодом расположены в порядке исполнения\n",
    "- [x]  Выполнен шаг 1: данные загружены\n",
    "- [x]  Выполнен шаг 2: получен ответ на вопрос об умножении матриц\n",
    "    - [x]  Указан правильный вариант ответа\n",
    "    - [x]  Вариант обоснован\n",
    "- [x]  Выполнен шаг 3: предложен алгоритм преобразования\n",
    "    - [x]  Алгоритм описан\n",
    "    - [x]  Алгоритм обоснован\n",
    "- [x]  Выполнен шаг 4: алгоритм проверен\n",
    "    - [x]  Алгоритм реализован\n",
    "    - [x]  Проведено сравнение качества моделей до и после преобразования"
   ],
   "metadata": {}
  },
  {
   "cell_type": "code",
   "execution_count": null,
   "source": [],
   "outputs": [],
   "metadata": {}
  }
 ],
 "metadata": {
  "kernelspec": {
   "display_name": "Python 3",
   "language": "python",
   "name": "python3"
  },
  "language_info": {
   "codemirror_mode": {
    "name": "ipython",
    "version": 3
   },
   "file_extension": ".py",
   "mimetype": "text/x-python",
   "name": "python",
   "nbconvert_exporter": "python",
   "pygments_lexer": "ipython3",
   "version": "3.7.8"
  },
  "toc": {
   "base_numbering": 1,
   "nav_menu": {},
   "number_sections": false,
   "sideBar": true,
   "skip_h1_title": true,
   "title_cell": "Table of Contents",
   "title_sidebar": "Contents",
   "toc_cell": false,
   "toc_position": {},
   "toc_section_display": true,
   "toc_window_display": false
  }
 },
 "nbformat": 4,
 "nbformat_minor": 2
}