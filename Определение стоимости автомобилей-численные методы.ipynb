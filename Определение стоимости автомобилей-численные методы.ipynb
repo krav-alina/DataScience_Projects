{
 "cells": [
  {
   "cell_type": "markdown",
   "source": [
    "# Определение стоимости автомобилей"
   ],
   "metadata": {}
  },
  {
   "cell_type": "markdown",
   "source": [
    "Сервис по продаже автомобилей с пробегом «Не бит, не крашен» разрабатывает приложение для привлечения новых клиентов. В нём можно быстро узнать рыночную стоимость своего автомобиля. В вашем распоряжении исторические данные: технические характеристики, комплектации и цены автомобилей. Вам нужно построить модель для определения стоимости. \n",
    "\n",
    "Заказчику важны:\n",
    "\n",
    "- качество предсказания;\n",
    "- скорость предсказания;\n",
    "- время обучения."
   ],
   "metadata": {}
  },
  {
   "cell_type": "markdown",
   "source": [
    "[Шаг 1. Подготовка данных](#Шаг_1)"
   ],
   "metadata": {}
  },
  {
   "cell_type": "markdown",
   "source": [
    "[Шаг 2. Обучение моделей](#Шаг_2)"
   ],
   "metadata": {}
  },
  {
   "cell_type": "markdown",
   "source": [
    "[Шаг 3. Анализ качества моделей](#Шаг_3)"
   ],
   "metadata": {}
  },
  {
   "cell_type": "markdown",
   "source": [
    "<a id='Шаг_1'></a>"
   ],
   "metadata": {}
  },
  {
   "cell_type": "markdown",
   "source": [
    "# <font color='purple'> ШАГ 1. Подготовка данных</font>"
   ],
   "metadata": {}
  },
  {
   "cell_type": "code",
   "execution_count": 1,
   "source": [
    "import pandas as pd\r\n",
    "from sklearn.model_selection import train_test_split\r\n",
    "from catboost import CatBoostClassifier\r\n",
    "import lightgbm as lgb\r\n",
    "import numpy as np\r\n",
    "from sklearn.metrics import mean_squared_error\r\n",
    "from sklearn.preprocessing import OrdinalEncoder\r\n",
    "from sklearn.preprocessing import StandardScaler\r\n",
    "from sklearn.ensemble import RandomForestRegressor\r\n",
    "from sklearn.linear_model import LinearRegression\r\n",
    "import matplotlib.pyplot as plt"
   ],
   "outputs": [],
   "metadata": {}
  },
  {
   "cell_type": "markdown",
   "source": [
    "<div class=\"alert alert-success\">\n",
    "Молодец, что группируешь все импорты в одном месте, такая структуризации полезна и удобна\n",
    "</div>"
   ],
   "metadata": {}
  },
  {
   "cell_type": "code",
   "execution_count": 2,
   "source": [
    "data = pd.read_csv('/datasets/autos.csv')"
   ],
   "outputs": [],
   "metadata": {}
  },
  {
   "cell_type": "code",
   "execution_count": 3,
   "source": [
    "data.head()"
   ],
   "outputs": [
    {
     "output_type": "execute_result",
     "data": {
      "text/plain": [
       "           DateCrawled  Price VehicleType  RegistrationYear Gearbox  Power  \\\n",
       "0  2016-03-24 11:52:17    480         NaN              1993  manual      0   \n",
       "1  2016-03-24 10:58:45  18300       coupe              2011  manual    190   \n",
       "2  2016-03-14 12:52:21   9800         suv              2004    auto    163   \n",
       "3  2016-03-17 16:54:04   1500       small              2001  manual     75   \n",
       "4  2016-03-31 17:25:20   3600       small              2008  manual     69   \n",
       "\n",
       "   Model  Kilometer  RegistrationMonth  FuelType       Brand NotRepaired  \\\n",
       "0   golf     150000                  0    petrol  volkswagen         NaN   \n",
       "1    NaN     125000                  5  gasoline        audi         yes   \n",
       "2  grand     125000                  8  gasoline        jeep         NaN   \n",
       "3   golf     150000                  6    petrol  volkswagen          no   \n",
       "4  fabia      90000                  7  gasoline       skoda          no   \n",
       "\n",
       "           DateCreated  NumberOfPictures  PostalCode             LastSeen  \n",
       "0  2016-03-24 00:00:00                 0       70435  2016-04-07 03:16:57  \n",
       "1  2016-03-24 00:00:00                 0       66954  2016-04-07 01:46:50  \n",
       "2  2016-03-14 00:00:00                 0       90480  2016-04-05 12:47:46  \n",
       "3  2016-03-17 00:00:00                 0       91074  2016-03-17 17:40:17  \n",
       "4  2016-03-31 00:00:00                 0       60437  2016-04-06 10:17:21  "
      ],
      "text/html": [
       "<div>\n",
       "<style scoped>\n",
       "    .dataframe tbody tr th:only-of-type {\n",
       "        vertical-align: middle;\n",
       "    }\n",
       "\n",
       "    .dataframe tbody tr th {\n",
       "        vertical-align: top;\n",
       "    }\n",
       "\n",
       "    .dataframe thead th {\n",
       "        text-align: right;\n",
       "    }\n",
       "</style>\n",
       "<table border=\"1\" class=\"dataframe\">\n",
       "  <thead>\n",
       "    <tr style=\"text-align: right;\">\n",
       "      <th></th>\n",
       "      <th>DateCrawled</th>\n",
       "      <th>Price</th>\n",
       "      <th>VehicleType</th>\n",
       "      <th>RegistrationYear</th>\n",
       "      <th>Gearbox</th>\n",
       "      <th>Power</th>\n",
       "      <th>Model</th>\n",
       "      <th>Kilometer</th>\n",
       "      <th>RegistrationMonth</th>\n",
       "      <th>FuelType</th>\n",
       "      <th>Brand</th>\n",
       "      <th>NotRepaired</th>\n",
       "      <th>DateCreated</th>\n",
       "      <th>NumberOfPictures</th>\n",
       "      <th>PostalCode</th>\n",
       "      <th>LastSeen</th>\n",
       "    </tr>\n",
       "  </thead>\n",
       "  <tbody>\n",
       "    <tr>\n",
       "      <td>0</td>\n",
       "      <td>2016-03-24 11:52:17</td>\n",
       "      <td>480</td>\n",
       "      <td>NaN</td>\n",
       "      <td>1993</td>\n",
       "      <td>manual</td>\n",
       "      <td>0</td>\n",
       "      <td>golf</td>\n",
       "      <td>150000</td>\n",
       "      <td>0</td>\n",
       "      <td>petrol</td>\n",
       "      <td>volkswagen</td>\n",
       "      <td>NaN</td>\n",
       "      <td>2016-03-24 00:00:00</td>\n",
       "      <td>0</td>\n",
       "      <td>70435</td>\n",
       "      <td>2016-04-07 03:16:57</td>\n",
       "    </tr>\n",
       "    <tr>\n",
       "      <td>1</td>\n",
       "      <td>2016-03-24 10:58:45</td>\n",
       "      <td>18300</td>\n",
       "      <td>coupe</td>\n",
       "      <td>2011</td>\n",
       "      <td>manual</td>\n",
       "      <td>190</td>\n",
       "      <td>NaN</td>\n",
       "      <td>125000</td>\n",
       "      <td>5</td>\n",
       "      <td>gasoline</td>\n",
       "      <td>audi</td>\n",
       "      <td>yes</td>\n",
       "      <td>2016-03-24 00:00:00</td>\n",
       "      <td>0</td>\n",
       "      <td>66954</td>\n",
       "      <td>2016-04-07 01:46:50</td>\n",
       "    </tr>\n",
       "    <tr>\n",
       "      <td>2</td>\n",
       "      <td>2016-03-14 12:52:21</td>\n",
       "      <td>9800</td>\n",
       "      <td>suv</td>\n",
       "      <td>2004</td>\n",
       "      <td>auto</td>\n",
       "      <td>163</td>\n",
       "      <td>grand</td>\n",
       "      <td>125000</td>\n",
       "      <td>8</td>\n",
       "      <td>gasoline</td>\n",
       "      <td>jeep</td>\n",
       "      <td>NaN</td>\n",
       "      <td>2016-03-14 00:00:00</td>\n",
       "      <td>0</td>\n",
       "      <td>90480</td>\n",
       "      <td>2016-04-05 12:47:46</td>\n",
       "    </tr>\n",
       "    <tr>\n",
       "      <td>3</td>\n",
       "      <td>2016-03-17 16:54:04</td>\n",
       "      <td>1500</td>\n",
       "      <td>small</td>\n",
       "      <td>2001</td>\n",
       "      <td>manual</td>\n",
       "      <td>75</td>\n",
       "      <td>golf</td>\n",
       "      <td>150000</td>\n",
       "      <td>6</td>\n",
       "      <td>petrol</td>\n",
       "      <td>volkswagen</td>\n",
       "      <td>no</td>\n",
       "      <td>2016-03-17 00:00:00</td>\n",
       "      <td>0</td>\n",
       "      <td>91074</td>\n",
       "      <td>2016-03-17 17:40:17</td>\n",
       "    </tr>\n",
       "    <tr>\n",
       "      <td>4</td>\n",
       "      <td>2016-03-31 17:25:20</td>\n",
       "      <td>3600</td>\n",
       "      <td>small</td>\n",
       "      <td>2008</td>\n",
       "      <td>manual</td>\n",
       "      <td>69</td>\n",
       "      <td>fabia</td>\n",
       "      <td>90000</td>\n",
       "      <td>7</td>\n",
       "      <td>gasoline</td>\n",
       "      <td>skoda</td>\n",
       "      <td>no</td>\n",
       "      <td>2016-03-31 00:00:00</td>\n",
       "      <td>0</td>\n",
       "      <td>60437</td>\n",
       "      <td>2016-04-06 10:17:21</td>\n",
       "    </tr>\n",
       "  </tbody>\n",
       "</table>\n",
       "</div>"
      ]
     },
     "metadata": {},
     "execution_count": 3
    }
   ],
   "metadata": {}
  },
  {
   "cell_type": "code",
   "execution_count": 4,
   "source": [
    "data.sample(n=5,random_state=12345)"
   ],
   "outputs": [
    {
     "output_type": "execute_result",
     "data": {
      "text/plain": [
       "                DateCrawled  Price VehicleType  RegistrationYear Gearbox  \\\n",
       "18734   2016-04-04 13:36:58  16900         bus              2010    auto   \n",
       "141787  2016-03-07 17:57:08  15500       other              2011  manual   \n",
       "37523   2016-03-24 09:37:02   3600       sedan              2004  manual   \n",
       "194192  2016-03-15 09:49:03   8990       sedan              2007    auto   \n",
       "110210  2016-03-29 23:43:52   2500       other              1994  manual   \n",
       "\n",
       "        Power        Model  Kilometer  RegistrationMonth  FuelType  \\\n",
       "18734     150        viano     150000                  4  gasoline   \n",
       "141787    143          1er      40000                  5  gasoline   \n",
       "37523     125        astra     150000                 12    petrol   \n",
       "194192    224     c_klasse     150000                  9  gasoline   \n",
       "110210     68  transporter     150000                  9  gasoline   \n",
       "\n",
       "                Brand NotRepaired          DateCreated  NumberOfPictures  \\\n",
       "18734   mercedes_benz          no  2016-04-04 00:00:00                 0   \n",
       "141787            bmw          no  2016-03-07 00:00:00                 0   \n",
       "37523            opel          no  2016-03-24 00:00:00                 0   \n",
       "194192  mercedes_benz          no  2016-03-15 00:00:00                 0   \n",
       "110210     volkswagen          no  2016-03-29 00:00:00                 0   \n",
       "\n",
       "        PostalCode             LastSeen  \n",
       "18734        60326  2016-04-05 12:18:31  \n",
       "141787       35083  2016-04-06 20:19:15  \n",
       "37523        13627  2016-03-24 10:38:57  \n",
       "194192       58135  2016-03-18 02:17:06  \n",
       "110210       24598  2016-04-02 12:45:46  "
      ],
      "text/html": [
       "<div>\n",
       "<style scoped>\n",
       "    .dataframe tbody tr th:only-of-type {\n",
       "        vertical-align: middle;\n",
       "    }\n",
       "\n",
       "    .dataframe tbody tr th {\n",
       "        vertical-align: top;\n",
       "    }\n",
       "\n",
       "    .dataframe thead th {\n",
       "        text-align: right;\n",
       "    }\n",
       "</style>\n",
       "<table border=\"1\" class=\"dataframe\">\n",
       "  <thead>\n",
       "    <tr style=\"text-align: right;\">\n",
       "      <th></th>\n",
       "      <th>DateCrawled</th>\n",
       "      <th>Price</th>\n",
       "      <th>VehicleType</th>\n",
       "      <th>RegistrationYear</th>\n",
       "      <th>Gearbox</th>\n",
       "      <th>Power</th>\n",
       "      <th>Model</th>\n",
       "      <th>Kilometer</th>\n",
       "      <th>RegistrationMonth</th>\n",
       "      <th>FuelType</th>\n",
       "      <th>Brand</th>\n",
       "      <th>NotRepaired</th>\n",
       "      <th>DateCreated</th>\n",
       "      <th>NumberOfPictures</th>\n",
       "      <th>PostalCode</th>\n",
       "      <th>LastSeen</th>\n",
       "    </tr>\n",
       "  </thead>\n",
       "  <tbody>\n",
       "    <tr>\n",
       "      <td>18734</td>\n",
       "      <td>2016-04-04 13:36:58</td>\n",
       "      <td>16900</td>\n",
       "      <td>bus</td>\n",
       "      <td>2010</td>\n",
       "      <td>auto</td>\n",
       "      <td>150</td>\n",
       "      <td>viano</td>\n",
       "      <td>150000</td>\n",
       "      <td>4</td>\n",
       "      <td>gasoline</td>\n",
       "      <td>mercedes_benz</td>\n",
       "      <td>no</td>\n",
       "      <td>2016-04-04 00:00:00</td>\n",
       "      <td>0</td>\n",
       "      <td>60326</td>\n",
       "      <td>2016-04-05 12:18:31</td>\n",
       "    </tr>\n",
       "    <tr>\n",
       "      <td>141787</td>\n",
       "      <td>2016-03-07 17:57:08</td>\n",
       "      <td>15500</td>\n",
       "      <td>other</td>\n",
       "      <td>2011</td>\n",
       "      <td>manual</td>\n",
       "      <td>143</td>\n",
       "      <td>1er</td>\n",
       "      <td>40000</td>\n",
       "      <td>5</td>\n",
       "      <td>gasoline</td>\n",
       "      <td>bmw</td>\n",
       "      <td>no</td>\n",
       "      <td>2016-03-07 00:00:00</td>\n",
       "      <td>0</td>\n",
       "      <td>35083</td>\n",
       "      <td>2016-04-06 20:19:15</td>\n",
       "    </tr>\n",
       "    <tr>\n",
       "      <td>37523</td>\n",
       "      <td>2016-03-24 09:37:02</td>\n",
       "      <td>3600</td>\n",
       "      <td>sedan</td>\n",
       "      <td>2004</td>\n",
       "      <td>manual</td>\n",
       "      <td>125</td>\n",
       "      <td>astra</td>\n",
       "      <td>150000</td>\n",
       "      <td>12</td>\n",
       "      <td>petrol</td>\n",
       "      <td>opel</td>\n",
       "      <td>no</td>\n",
       "      <td>2016-03-24 00:00:00</td>\n",
       "      <td>0</td>\n",
       "      <td>13627</td>\n",
       "      <td>2016-03-24 10:38:57</td>\n",
       "    </tr>\n",
       "    <tr>\n",
       "      <td>194192</td>\n",
       "      <td>2016-03-15 09:49:03</td>\n",
       "      <td>8990</td>\n",
       "      <td>sedan</td>\n",
       "      <td>2007</td>\n",
       "      <td>auto</td>\n",
       "      <td>224</td>\n",
       "      <td>c_klasse</td>\n",
       "      <td>150000</td>\n",
       "      <td>9</td>\n",
       "      <td>gasoline</td>\n",
       "      <td>mercedes_benz</td>\n",
       "      <td>no</td>\n",
       "      <td>2016-03-15 00:00:00</td>\n",
       "      <td>0</td>\n",
       "      <td>58135</td>\n",
       "      <td>2016-03-18 02:17:06</td>\n",
       "    </tr>\n",
       "    <tr>\n",
       "      <td>110210</td>\n",
       "      <td>2016-03-29 23:43:52</td>\n",
       "      <td>2500</td>\n",
       "      <td>other</td>\n",
       "      <td>1994</td>\n",
       "      <td>manual</td>\n",
       "      <td>68</td>\n",
       "      <td>transporter</td>\n",
       "      <td>150000</td>\n",
       "      <td>9</td>\n",
       "      <td>gasoline</td>\n",
       "      <td>volkswagen</td>\n",
       "      <td>no</td>\n",
       "      <td>2016-03-29 00:00:00</td>\n",
       "      <td>0</td>\n",
       "      <td>24598</td>\n",
       "      <td>2016-04-02 12:45:46</td>\n",
       "    </tr>\n",
       "  </tbody>\n",
       "</table>\n",
       "</div>"
      ]
     },
     "metadata": {},
     "execution_count": 4
    }
   ],
   "metadata": {}
  },
  {
   "cell_type": "markdown",
   "source": [
    "<div class=\"alert alert-info\">\n",
    "<h1>Комментарий ревьюера <a class=\"tocSkip\"></a></h1>\n",
    "Для вариативности полезно использовать метод sample с зафиксированным random_state, тогда будут выдаваться случайные строки. Иначе выдача последовательных строк может создать ложное впечатление о датасете, например\n",
    "</div>"
   ],
   "metadata": {}
  },
  {
   "cell_type": "code",
   "execution_count": 5,
   "source": [
    "data.info()"
   ],
   "outputs": [
    {
     "output_type": "stream",
     "name": "stdout",
     "text": [
      "<class 'pandas.core.frame.DataFrame'>\n",
      "RangeIndex: 354369 entries, 0 to 354368\n",
      "Data columns (total 16 columns):\n",
      "DateCrawled          354369 non-null object\n",
      "Price                354369 non-null int64\n",
      "VehicleType          316879 non-null object\n",
      "RegistrationYear     354369 non-null int64\n",
      "Gearbox              334536 non-null object\n",
      "Power                354369 non-null int64\n",
      "Model                334664 non-null object\n",
      "Kilometer            354369 non-null int64\n",
      "RegistrationMonth    354369 non-null int64\n",
      "FuelType             321474 non-null object\n",
      "Brand                354369 non-null object\n",
      "NotRepaired          283215 non-null object\n",
      "DateCreated          354369 non-null object\n",
      "NumberOfPictures     354369 non-null int64\n",
      "PostalCode           354369 non-null int64\n",
      "LastSeen             354369 non-null object\n",
      "dtypes: int64(7), object(9)\n",
      "memory usage: 43.3+ MB\n"
     ]
    }
   ],
   "metadata": {}
  },
  {
   "cell_type": "code",
   "execution_count": 6,
   "source": [
    "ax = data['Price'].hist(density=True,bins=100)\n",
    "ax.set_xlabel('price')\n",
    "ax.set_ylabel('count')\n",
    "plt.suptitle('Price distribution')\n",
    "plt.show()\n",
    "data['Price'].describe()"
   ],
   "outputs": [
    {
     "output_type": "display_data",
     "data": {
      "text/plain": [
       "<Figure size 432x288 with 1 Axes>"
      ],
      "image/png": "[encoded data removed]"
     },
     "metadata": {
      "needs_background": "light"
     }
    },
    {
     "output_type": "execute_result",
     "data": {
      "text/plain": [
       "count    354369.000000\n",
       "mean       4416.656776\n",
       "std        4514.158514\n",
       "min           0.000000\n",
       "25%        1050.000000\n",
       "50%        2700.000000\n",
       "75%        6400.000000\n",
       "max       20000.000000\n",
       "Name: Price, dtype: float64"
      ]
     },
     "metadata": {},
     "execution_count": 6
    }
   ],
   "metadata": {}
  },
  {
   "cell_type": "markdown",
   "source": [
    "<div class=\"alert alert-warning\">\n",
    "<h1>Комментарий ревьюера <a class=\"tocSkip\"></a></h1>\n",
    "Не хватает подписей и легенды у графиков</div>"
   ],
   "metadata": {}
  },
  {
   "cell_type": "markdown",
   "source": [
    "<font color='blue'> <b> Комментарий студента V1. </b>\n",
    "    Увидела ниже коммент про цену = 0. считаю, что ее можно удалить. Также заметила большое количество машин ценой даже менбше 10 евро, соответственно, встает вопрос, какую цену считать оптимальной для автомобиля?\n",
    "Я посчитала нужным удалить нулевые Power и RegistrationMonth, если они совпали с ценой меньше 10, потому что предполагаю,что данные просто не были заполнены корректно. Также я удалила странно мощные машины и машины, у которых слишком низкая цена для указанной высокой мощности. Также удалила странно низкую мощность. "
   ],
   "metadata": {}
  },
  {
   "cell_type": "code",
   "execution_count": 7,
   "source": [
    "data[data['Price']==0].count()"
   ],
   "outputs": [
    {
     "output_type": "execute_result",
     "data": {
      "text/plain": [
       "DateCrawled          10772\n",
       "Price                10772\n",
       "VehicleType           7032\n",
       "RegistrationYear     10772\n",
       "Gearbox               8294\n",
       "Power                10772\n",
       "Model                 8588\n",
       "Kilometer            10772\n",
       "RegistrationMonth    10772\n",
       "FuelType              7336\n",
       "Brand                10772\n",
       "NotRepaired           5484\n",
       "DateCreated          10772\n",
       "NumberOfPictures     10772\n",
       "PostalCode           10772\n",
       "LastSeen             10772\n",
       "dtype: int64"
      ]
     },
     "metadata": {},
     "execution_count": 7
    }
   ],
   "metadata": {}
  },
  {
   "cell_type": "code",
   "execution_count": 8,
   "source": [
    "data.drop(data[(data['Price']<10) & (data['Power']==0)].index, inplace=True)"
   ],
   "outputs": [],
   "metadata": {}
  },
  {
   "cell_type": "code",
   "execution_count": 9,
   "source": [
    "data.drop(data[(data['Price']<10) & (data['RegistrationMonth']==0)].index, inplace=True)"
   ],
   "outputs": [],
   "metadata": {}
  },
  {
   "cell_type": "markdown",
   "source": [
    "<div class=\"alert alert-success\">\n",
    "<h1>Комментарий ревьюера v2 <a class=\"tocSkip\"></a></h1>\n",
    "Да, молодец. Вообще полезно было бы посмотреть на их графики, тогда примерно понятно будет, что можно отсечь с двух концов. А, вижу ниже графики, молодец;)</div>"
   ],
   "metadata": {}
  },
  {
   "cell_type": "code",
   "execution_count": 10,
   "source": [
    "data.drop(data[(data['Power']>1000) & (data['Price']<10000)].index, inplace=True)"
   ],
   "outputs": [],
   "metadata": {}
  },
  {
   "cell_type": "code",
   "execution_count": 11,
   "source": [
    "data.drop(data[data['Power']>1600].index, inplace=True)"
   ],
   "outputs": [],
   "metadata": {}
  },
  {
   "cell_type": "code",
   "execution_count": 12,
   "source": [
    "data.drop(data[data['Power']<20].index, inplace=True)"
   ],
   "outputs": [],
   "metadata": {}
  },
  {
   "cell_type": "code",
   "execution_count": 13,
   "source": [
    "data.drop(data[data['Price']==0].index, inplace=True)"
   ],
   "outputs": [],
   "metadata": {}
  },
  {
   "cell_type": "code",
   "execution_count": 14,
   "source": [
    "ax = data['Price'].hist(bins=100,range=(0,20000))\n",
    "ax.set_xlabel('price')\n",
    "ax.set_ylabel('count')\n",
    "plt.suptitle('Price distribution')\n",
    "plt.show()\n",
    "data['Price'].describe()"
   ],
   "outputs": [
    {
     "output_type": "display_data",
     "data": {
      "text/plain": [
       "<Figure size 432x288 with 1 Axes>"
      ],
      "image/png": "[encoded data removed]"
     },
     "metadata": {
      "needs_background": "light"
     }
    },
    {
     "output_type": "execute_result",
     "data": {
      "text/plain": [
       "count    306357.000000\n",
       "mean       4815.056209\n",
       "std        4588.067624\n",
       "min           1.000000\n",
       "25%        1300.000000\n",
       "50%        3100.000000\n",
       "75%        6950.000000\n",
       "max       20000.000000\n",
       "Name: Price, dtype: float64"
      ]
     },
     "metadata": {},
     "execution_count": 14
    }
   ],
   "metadata": {}
  },
  {
   "cell_type": "code",
   "execution_count": 15,
   "source": [
    "#тут я еще построила ящики с усами, чтобы было виднее оставшиеся хвосты. все-таки решила их оставить."
   ],
   "outputs": [],
   "metadata": {}
  },
  {
   "cell_type": "code",
   "execution_count": 16,
   "source": [
    "data.boxplot(column=['Power'])"
   ],
   "outputs": [
    {
     "output_type": "execute_result",
     "data": {
      "text/plain": [
       "<matplotlib.axes._subplots.AxesSubplot at 0x7f630b263590>"
      ]
     },
     "metadata": {},
     "execution_count": 16
    },
    {
     "output_type": "display_data",
     "data": {
      "text/plain": [
       "<Figure size 432x288 with 1 Axes>"
      ],
      "image/png": "[encoded data removed]"
     },
     "metadata": {
      "needs_background": "light"
     }
    }
   ],
   "metadata": {}
  },
  {
   "cell_type": "code",
   "execution_count": 17,
   "source": [
    "data.boxplot(column=['Price'])"
   ],
   "outputs": [
    {
     "output_type": "execute_result",
     "data": {
      "text/plain": [
       "<matplotlib.axes._subplots.AxesSubplot at 0x7f630b1aba90>"
      ]
     },
     "metadata": {},
     "execution_count": 17
    },
    {
     "output_type": "display_data",
     "data": {
      "text/plain": [
       "<Figure size 432x288 with 1 Axes>"
      ],
      "image/png": "[encoded data removed]"
     },
     "metadata": {
      "needs_background": "light"
     }
    }
   ],
   "metadata": {}
  },
  {
   "cell_type": "markdown",
   "source": [
    "<font color='blue'> <b> Комментарий студента V2. </b>\n",
    "    Также я удалила объявления со странными годами регистрации, колонки LastSeen и DateCrawled."
   ],
   "metadata": {}
  },
  {
   "cell_type": "code",
   "execution_count": 18,
   "source": [
    "data.boxplot(column=['RegistrationYear'])"
   ],
   "outputs": [
    {
     "output_type": "execute_result",
     "data": {
      "text/plain": [
       "<matplotlib.axes._subplots.AxesSubplot at 0x7f630b190750>"
      ]
     },
     "metadata": {},
     "execution_count": 18
    },
    {
     "output_type": "display_data",
     "data": {
      "text/plain": [
       "<Figure size 432x288 with 1 Axes>"
      ],
      "image/png": "[encoded data removed]"
     },
     "metadata": {
      "needs_background": "light"
     }
    }
   ],
   "metadata": {}
  },
  {
   "cell_type": "code",
   "execution_count": 19,
   "source": [
    "data.drop(data[data['RegistrationYear']>2021].index, inplace=True)"
   ],
   "outputs": [],
   "metadata": {}
  },
  {
   "cell_type": "code",
   "execution_count": 20,
   "source": [
    "data.drop(data[data['RegistrationYear']<1910].index, inplace=True)"
   ],
   "outputs": [],
   "metadata": {}
  },
  {
   "cell_type": "code",
   "execution_count": 21,
   "source": [
    "pd.to_datetime(data['DateCrawled'])"
   ],
   "outputs": [
    {
     "output_type": "execute_result",
     "data": {
      "text/plain": [
       "1        2016-03-24 10:58:45\n",
       "2        2016-03-14 12:52:21\n",
       "3        2016-03-17 16:54:04\n",
       "4        2016-03-31 17:25:20\n",
       "5        2016-04-04 17:36:23\n",
       "                 ...        \n",
       "354361   2016-03-09 13:37:43\n",
       "354362   2016-03-19 19:53:49\n",
       "354366   2016-03-05 19:56:21\n",
       "354367   2016-03-19 18:57:12\n",
       "354368   2016-03-20 19:41:08\n",
       "Name: DateCrawled, Length: 306331, dtype: datetime64[ns]"
      ]
     },
     "metadata": {},
     "execution_count": 21
    }
   ],
   "metadata": {}
  },
  {
   "cell_type": "code",
   "execution_count": 22,
   "source": [
    "pd.to_datetime(data['DateCreated'])"
   ],
   "outputs": [
    {
     "output_type": "execute_result",
     "data": {
      "text/plain": [
       "1        2016-03-24\n",
       "2        2016-03-14\n",
       "3        2016-03-17\n",
       "4        2016-03-31\n",
       "5        2016-04-04\n",
       "            ...    \n",
       "354361   2016-03-09\n",
       "354362   2016-03-19\n",
       "354366   2016-03-05\n",
       "354367   2016-03-19\n",
       "354368   2016-03-20\n",
       "Name: DateCreated, Length: 306331, dtype: datetime64[ns]"
      ]
     },
     "metadata": {},
     "execution_count": 22
    }
   ],
   "metadata": {}
  },
  {
   "cell_type": "code",
   "execution_count": 23,
   "source": [
    "pd.to_datetime(data['LastSeen'])"
   ],
   "outputs": [
    {
     "output_type": "execute_result",
     "data": {
      "text/plain": [
       "1        2016-04-07 01:46:50\n",
       "2        2016-04-05 12:47:46\n",
       "3        2016-03-17 17:40:17\n",
       "4        2016-04-06 10:17:21\n",
       "5        2016-04-06 19:17:07\n",
       "                 ...        \n",
       "354361   2016-03-13 01:44:13\n",
       "354362   2016-03-19 20:44:43\n",
       "354366   2016-03-11 18:17:12\n",
       "354367   2016-04-07 07:15:26\n",
       "354368   2016-03-24 12:45:21\n",
       "Name: LastSeen, Length: 306331, dtype: datetime64[ns]"
      ]
     },
     "metadata": {},
     "execution_count": 23
    }
   ],
   "metadata": {}
  },
  {
   "cell_type": "code",
   "execution_count": 24,
   "source": [
    "data = data.fillna('unknown')"
   ],
   "outputs": [],
   "metadata": {}
  },
  {
   "cell_type": "markdown",
   "source": [
    "<font color='blue'> <b> Комментарий студента V3. </b>\n",
    "    К удаляемым добавила столбцы с количеством фоток и с датой создания. Добавила удаление дублей."
   ],
   "metadata": {}
  },
  {
   "cell_type": "code",
   "execution_count": 25,
   "source": [
    "data.drop(['LastSeen', 'DateCrawled', 'NumberOfPictures', 'DateCreated'], axis=1, inplace=True)"
   ],
   "outputs": [],
   "metadata": {}
  },
  {
   "cell_type": "code",
   "execution_count": 26,
   "source": [
    "data.drop_duplicates(inplace=True)"
   ],
   "outputs": [],
   "metadata": {}
  },
  {
   "cell_type": "code",
   "execution_count": 27,
   "source": [
    "data.duplicated().sum()"
   ],
   "outputs": [
    {
     "output_type": "execute_result",
     "data": {
      "text/plain": [
       "0"
      ]
     },
     "metadata": {},
     "execution_count": 27
    }
   ],
   "metadata": {}
  },
  {
   "cell_type": "markdown",
   "source": [
    "<div class=\"alert alert-warning\">\n",
    "<h1>Комментарий ревьюера <a class=\"tocSkip\"></a></h1>\n",
    "Ты тут, кстати, не удалила, в итоге, у тебя inplace=True не стоит</div>\n",
    "\n",
    "Комментарий студента - исправила"
   ],
   "metadata": {}
  },
  {
   "cell_type": "markdown",
   "source": [
    "<div class=\"alert alert-info\">\n",
    "<h1>Комментарий ревьюера <a class=\"tocSkip\"></a></h1>\n",
    "По идее PostalCode может быть полезен, как мне кажется, указывает локацию, откуда продается </div>"
   ],
   "metadata": {}
  },
  {
   "cell_type": "markdown",
   "source": [
    "<div class=\"alert alert-danger\">\n",
    "<h1>Комментарий ревьюера <a class=\"tocSkip\"></a></h1>\n",
    "А что по поводу DataCreated и NumberOfPictures? Ведь тоже бесполезные фичи, если подумать</div>"
   ],
   "metadata": {}
  },
  {
   "cell_type": "markdown",
   "source": [
    "<div class=\"alert -info\">\n",
    "<h1>Комментарий студента <a class=\"tocSkip\"></a></h1>\n",
    "Я оставляю DateCreated и NumberOfPictures, с PostalCode тоже соглашусь, надо оставить.\n",
    "\n",
    "Но у меня вопрос все же по столбцам с датами, как с ними обходиться, если не пользоваться кодировщиками OHE или OrdinalEncoder?</div>"
   ],
   "metadata": {}
  },
  {
   "cell_type": "markdown",
   "source": [
    "<div class=\"alert alert-info\">\n",
    "<h1>Комментарий ревьюера v2 <a class=\"tocSkip\"></a></h1>\n",
    "1) NumberOfPictures --- константный признак, он ни на что не влияет\n",
    "\n",
    "2) Ну ты во-первых,  можешь вычленить год, месяц, число .. и т.д, которые можно уже легко закодировать. Можно также выбрать какую-то дату, например 1910 год и сделать новый признак --- кол-во дней с 1910 года.  \n",
    "    \n",
    "3) А как может влиять Дата создания объявления на стоимость машины?\n",
    "\n",
    "</div>"
   ],
   "metadata": {}
  },
  {
   "cell_type": "code",
   "execution_count": 28,
   "source": [
    "# data = data.drop(columns=['PostalCode', 'DateCrawled', 'LastSeen', 'DateCreated', 'NumberOfPictures'])\n",
    "# data = pd.get_dummies(data,columns=['VehicleType','Gearbox','Model','FuelType','Brand','NotRepaired'])\n",
    "# target = data['Price']\n",
    "# features = data.drop(['Price'], axis=1)\n",
    "\n",
    "# features_train, features_valid, target_train, target_valid = train_test_split(features, target, test_size=0.4,random_state=12345)\n",
    "# model2 = LinearRegression()\n",
    "# model2.fit(features_train, target_train)\n",
    "# predicted_train2=model2.predict(features_train)\n",
    "# predicted_valid2=model2.predict(features_valid)\n",
    "# print(mean_squared_error(predicted_train2,target_train)**0.5)\n",
    "# print(mean_squared_error(predicted_valid2,target_valid)**0.5)"
   ],
   "outputs": [],
   "metadata": {}
  },
  {
   "cell_type": "code",
   "execution_count": 29,
   "source": [
    "data_ohe = pd.get_dummies(data, drop_first=True)"
   ],
   "outputs": [],
   "metadata": {}
  },
  {
   "cell_type": "code",
   "execution_count": 30,
   "source": [
    "data_ohe.describe()"
   ],
   "outputs": [
    {
     "output_type": "execute_result",
     "data": {
      "text/plain": [
       "               Price  RegistrationYear          Power      Kilometer  \\\n",
       "count  287154.000000     287154.000000  287154.000000  287154.000000   \n",
       "mean     4775.434941       2003.272310     120.280835  128659.969912   \n",
       "std      4579.153719          6.959546      54.819859   36556.382096   \n",
       "min         1.000000       1910.000000      20.000000    5000.000000   \n",
       "25%      1300.000000       1999.000000      75.000000  125000.000000   \n",
       "50%      3000.000000       2003.000000     110.000000  150000.000000   \n",
       "75%      6900.000000       2008.000000     150.000000  150000.000000   \n",
       "max     20000.000000       2019.000000    1521.000000  150000.000000   \n",
       "\n",
       "       RegistrationMonth     PostalCode  VehicleType_convertible  \\\n",
       "count      287154.000000  287154.000000            287154.000000   \n",
       "mean            5.948599   51355.812749                 0.061002   \n",
       "std             3.601024   25777.652694                 0.239335   \n",
       "min             0.000000    1067.000000                 0.000000   \n",
       "25%             3.000000   30989.000000                 0.000000   \n",
       "50%             6.000000   50321.000000                 0.000000   \n",
       "75%             9.000000   72202.000000                 0.000000   \n",
       "max            12.000000   99998.000000                 1.000000   \n",
       "\n",
       "       VehicleType_coupe  VehicleType_other  VehicleType_sedan  ...  \\\n",
       "count      287154.000000      287154.000000      287154.000000  ...   \n",
       "mean            0.047988           0.008212           0.270635  ...   \n",
       "std             0.213742           0.090245           0.444289  ...   \n",
       "min             0.000000           0.000000           0.000000  ...   \n",
       "25%             0.000000           0.000000           0.000000  ...   \n",
       "50%             0.000000           0.000000           0.000000  ...   \n",
       "75%             0.000000           0.000000           1.000000  ...   \n",
       "max             1.000000           1.000000           1.000000  ...   \n",
       "\n",
       "         Brand_smart  Brand_sonstige_autos   Brand_subaru   Brand_suzuki  \\\n",
       "count  287154.000000         287154.000000  287154.000000  287154.000000   \n",
       "mean        0.015180              0.005736       0.002201       0.006627   \n",
       "std         0.122269              0.075516       0.046862       0.081137   \n",
       "min         0.000000              0.000000       0.000000       0.000000   \n",
       "25%         0.000000              0.000000       0.000000       0.000000   \n",
       "50%         0.000000              0.000000       0.000000       0.000000   \n",
       "75%         0.000000              0.000000       0.000000       0.000000   \n",
       "max         1.000000              1.000000       1.000000       1.000000   \n",
       "\n",
       "        Brand_toyota  Brand_trabant  Brand_volkswagen    Brand_volvo  \\\n",
       "count  287154.000000  287154.000000     287154.000000  287154.000000   \n",
       "mean        0.013634       0.000992          0.218050       0.009270   \n",
       "std         0.115965       0.031488          0.412922       0.095835   \n",
       "min         0.000000       0.000000          0.000000       0.000000   \n",
       "25%         0.000000       0.000000          0.000000       0.000000   \n",
       "50%         0.000000       0.000000          0.000000       0.000000   \n",
       "75%         0.000000       0.000000          0.000000       0.000000   \n",
       "max         1.000000       1.000000          1.000000       1.000000   \n",
       "\n",
       "       NotRepaired_unknown  NotRepaired_yes  \n",
       "count        287154.000000    287154.000000  \n",
       "mean              0.156662         0.099048  \n",
       "std               0.363482         0.298727  \n",
       "min               0.000000         0.000000  \n",
       "25%               0.000000         0.000000  \n",
       "50%               0.000000         0.000000  \n",
       "75%               0.000000         0.000000  \n",
       "max               1.000000         1.000000  \n",
       "\n",
       "[8 rows x 313 columns]"
      ],
      "text/html": [
       "<div>\n",
       "<style scoped>\n",
       "    .dataframe tbody tr th:only-of-type {\n",
       "        vertical-align: middle;\n",
       "    }\n",
       "\n",
       "    .dataframe tbody tr th {\n",
       "        vertical-align: top;\n",
       "    }\n",
       "\n",
       "    .dataframe thead th {\n",
       "        text-align: right;\n",
       "    }\n",
       "</style>\n",
       "<table border=\"1\" class=\"dataframe\">\n",
       "  <thead>\n",
       "    <tr style=\"text-align: right;\">\n",
       "      <th></th>\n",
       "      <th>Price</th>\n",
       "      <th>RegistrationYear</th>\n",
       "      <th>Power</th>\n",
       "      <th>Kilometer</th>\n",
       "      <th>RegistrationMonth</th>\n",
       "      <th>PostalCode</th>\n",
       "      <th>VehicleType_convertible</th>\n",
       "      <th>VehicleType_coupe</th>\n",
       "      <th>VehicleType_other</th>\n",
       "      <th>VehicleType_sedan</th>\n",
       "      <th>...</th>\n",
       "      <th>Brand_smart</th>\n",
       "      <th>Brand_sonstige_autos</th>\n",
       "      <th>Brand_subaru</th>\n",
       "      <th>Brand_suzuki</th>\n",
       "      <th>Brand_toyota</th>\n",
       "      <th>Brand_trabant</th>\n",
       "      <th>Brand_volkswagen</th>\n",
       "      <th>Brand_volvo</th>\n",
       "      <th>NotRepaired_unknown</th>\n",
       "      <th>NotRepaired_yes</th>\n",
       "    </tr>\n",
       "  </thead>\n",
       "  <tbody>\n",
       "    <tr>\n",
       "      <td>count</td>\n",
       "      <td>287154.000000</td>\n",
       "      <td>287154.000000</td>\n",
       "      <td>287154.000000</td>\n",
       "      <td>287154.000000</td>\n",
       "      <td>287154.000000</td>\n",
       "      <td>287154.000000</td>\n",
       "      <td>287154.000000</td>\n",
       "      <td>287154.000000</td>\n",
       "      <td>287154.000000</td>\n",
       "      <td>287154.000000</td>\n",
       "      <td>...</td>\n",
       "      <td>287154.000000</td>\n",
       "      <td>287154.000000</td>\n",
       "      <td>287154.000000</td>\n",
       "      <td>287154.000000</td>\n",
       "      <td>287154.000000</td>\n",
       "      <td>287154.000000</td>\n",
       "      <td>287154.000000</td>\n",
       "      <td>287154.000000</td>\n",
       "      <td>287154.000000</td>\n",
       "      <td>287154.000000</td>\n",
       "    </tr>\n",
       "    <tr>\n",
       "      <td>mean</td>\n",
       "      <td>4775.434941</td>\n",
       "      <td>2003.272310</td>\n",
       "      <td>120.280835</td>\n",
       "      <td>128659.969912</td>\n",
       "      <td>5.948599</td>\n",
       "      <td>51355.812749</td>\n",
       "      <td>0.061002</td>\n",
       "      <td>0.047988</td>\n",
       "      <td>0.008212</td>\n",
       "      <td>0.270635</td>\n",
       "      <td>...</td>\n",
       "      <td>0.015180</td>\n",
       "      <td>0.005736</td>\n",
       "      <td>0.002201</td>\n",
       "      <td>0.006627</td>\n",
       "      <td>0.013634</td>\n",
       "      <td>0.000992</td>\n",
       "      <td>0.218050</td>\n",
       "      <td>0.009270</td>\n",
       "      <td>0.156662</td>\n",
       "      <td>0.099048</td>\n",
       "    </tr>\n",
       "    <tr>\n",
       "      <td>std</td>\n",
       "      <td>4579.153719</td>\n",
       "      <td>6.959546</td>\n",
       "      <td>54.819859</td>\n",
       "      <td>36556.382096</td>\n",
       "      <td>3.601024</td>\n",
       "      <td>25777.652694</td>\n",
       "      <td>0.239335</td>\n",
       "      <td>0.213742</td>\n",
       "      <td>0.090245</td>\n",
       "      <td>0.444289</td>\n",
       "      <td>...</td>\n",
       "      <td>0.122269</td>\n",
       "      <td>0.075516</td>\n",
       "      <td>0.046862</td>\n",
       "      <td>0.081137</td>\n",
       "      <td>0.115965</td>\n",
       "      <td>0.031488</td>\n",
       "      <td>0.412922</td>\n",
       "      <td>0.095835</td>\n",
       "      <td>0.363482</td>\n",
       "      <td>0.298727</td>\n",
       "    </tr>\n",
       "    <tr>\n",
       "      <td>min</td>\n",
       "      <td>1.000000</td>\n",
       "      <td>1910.000000</td>\n",
       "      <td>20.000000</td>\n",
       "      <td>5000.000000</td>\n",
       "      <td>0.000000</td>\n",
       "      <td>1067.000000</td>\n",
       "      <td>0.000000</td>\n",
       "      <td>0.000000</td>\n",
       "      <td>0.000000</td>\n",
       "      <td>0.000000</td>\n",
       "      <td>...</td>\n",
       "      <td>0.000000</td>\n",
       "      <td>0.000000</td>\n",
       "      <td>0.000000</td>\n",
       "      <td>0.000000</td>\n",
       "      <td>0.000000</td>\n",
       "      <td>0.000000</td>\n",
       "      <td>0.000000</td>\n",
       "      <td>0.000000</td>\n",
       "      <td>0.000000</td>\n",
       "      <td>0.000000</td>\n",
       "    </tr>\n",
       "    <tr>\n",
       "      <td>25%</td>\n",
       "      <td>1300.000000</td>\n",
       "      <td>1999.000000</td>\n",
       "      <td>75.000000</td>\n",
       "      <td>125000.000000</td>\n",
       "      <td>3.000000</td>\n",
       "      <td>30989.000000</td>\n",
       "      <td>0.000000</td>\n",
       "      <td>0.000000</td>\n",
       "      <td>0.000000</td>\n",
       "      <td>0.000000</td>\n",
       "      <td>...</td>\n",
       "      <td>0.000000</td>\n",
       "      <td>0.000000</td>\n",
       "      <td>0.000000</td>\n",
       "      <td>0.000000</td>\n",
       "      <td>0.000000</td>\n",
       "      <td>0.000000</td>\n",
       "      <td>0.000000</td>\n",
       "      <td>0.000000</td>\n",
       "      <td>0.000000</td>\n",
       "      <td>0.000000</td>\n",
       "    </tr>\n",
       "    <tr>\n",
       "      <td>50%</td>\n",
       "      <td>3000.000000</td>\n",
       "      <td>2003.000000</td>\n",
       "      <td>110.000000</td>\n",
       "      <td>150000.000000</td>\n",
       "      <td>6.000000</td>\n",
       "      <td>50321.000000</td>\n",
       "      <td>0.000000</td>\n",
       "      <td>0.000000</td>\n",
       "      <td>0.000000</td>\n",
       "      <td>0.000000</td>\n",
       "      <td>...</td>\n",
       "      <td>0.000000</td>\n",
       "      <td>0.000000</td>\n",
       "      <td>0.000000</td>\n",
       "      <td>0.000000</td>\n",
       "      <td>0.000000</td>\n",
       "      <td>0.000000</td>\n",
       "      <td>0.000000</td>\n",
       "      <td>0.000000</td>\n",
       "      <td>0.000000</td>\n",
       "      <td>0.000000</td>\n",
       "    </tr>\n",
       "    <tr>\n",
       "      <td>75%</td>\n",
       "      <td>6900.000000</td>\n",
       "      <td>2008.000000</td>\n",
       "      <td>150.000000</td>\n",
       "      <td>150000.000000</td>\n",
       "      <td>9.000000</td>\n",
       "      <td>72202.000000</td>\n",
       "      <td>0.000000</td>\n",
       "      <td>0.000000</td>\n",
       "      <td>0.000000</td>\n",
       "      <td>1.000000</td>\n",
       "      <td>...</td>\n",
       "      <td>0.000000</td>\n",
       "      <td>0.000000</td>\n",
       "      <td>0.000000</td>\n",
       "      <td>0.000000</td>\n",
       "      <td>0.000000</td>\n",
       "      <td>0.000000</td>\n",
       "      <td>0.000000</td>\n",
       "      <td>0.000000</td>\n",
       "      <td>0.000000</td>\n",
       "      <td>0.000000</td>\n",
       "    </tr>\n",
       "    <tr>\n",
       "      <td>max</td>\n",
       "      <td>20000.000000</td>\n",
       "      <td>2019.000000</td>\n",
       "      <td>1521.000000</td>\n",
       "      <td>150000.000000</td>\n",
       "      <td>12.000000</td>\n",
       "      <td>99998.000000</td>\n",
       "      <td>1.000000</td>\n",
       "      <td>1.000000</td>\n",
       "      <td>1.000000</td>\n",
       "      <td>1.000000</td>\n",
       "      <td>...</td>\n",
       "      <td>1.000000</td>\n",
       "      <td>1.000000</td>\n",
       "      <td>1.000000</td>\n",
       "      <td>1.000000</td>\n",
       "      <td>1.000000</td>\n",
       "      <td>1.000000</td>\n",
       "      <td>1.000000</td>\n",
       "      <td>1.000000</td>\n",
       "      <td>1.000000</td>\n",
       "      <td>1.000000</td>\n",
       "    </tr>\n",
       "  </tbody>\n",
       "</table>\n",
       "<p>8 rows × 313 columns</p>\n",
       "</div>"
      ]
     },
     "metadata": {},
     "execution_count": 30
    }
   ],
   "metadata": {
    "scrolled": true
   }
  },
  {
   "cell_type": "code",
   "execution_count": 31,
   "source": [
    "# encoder = OrdinalEncoder()\n",
    "# data = pd.DataFrame(encoder.fit_transform(data), columns=data.columns)\n",
    "\n",
    "enc = OrdinalEncoder()\n",
    "cols = ['VehicleType','Gearbox','Model','FuelType','Brand','NotRepaired']\n",
    "data[cols] = enc.fit_transform(data[cols])"
   ],
   "outputs": [],
   "metadata": {}
  },
  {
   "cell_type": "markdown",
   "source": [
    "<div class=\"alert alert-danger\">\n",
    "<h1>Комментарий ревьюера v4 <a class=\"tocSkip\"></a></h1>\n",
    "Закомментил твой участок кода. Понимаешь в чем разница? \n",
    "\n",
    "Подсказка: Как будет работать <a href='https://scikit-learn.org/stable/modules/generated/sklearn.preprocessing.OrdinalEncoder.html'>OrdinalEncoder</a>, если ты его применишь ко всему датасету?\n",
    "</div>"
   ],
   "metadata": {}
  },
  {
   "cell_type": "markdown",
   "source": [
    "<span style='background:yellow'><font color='blue'> <b> Комментарий студента V4. </b>\n",
    "    Ну да, логично, зачем нам менять фичи с уже числовыми данными.</span>"
   ],
   "metadata": {}
  },
  {
   "cell_type": "markdown",
   "source": [
    "<div class=\"alert -info\">\n",
    "<h1>Комментарий студента <a class=\"tocSkip\"></a></h1>\n",
    "Да, уидела ошибку, исправляю</div>"
   ],
   "metadata": {}
  },
  {
   "cell_type": "markdown",
   "source": [
    "<div class=\"alert alert-danger\">\n",
    "<h1>Комментарий ревьюера <a class=\"tocSkip\"></a></h1>\n",
    "А подходит ли данный метод кодирования  при использовании линейной регрессии?</div>"
   ],
   "metadata": {}
  },
  {
   "cell_type": "markdown",
   "source": [
    "<div class=\"alert alert-danger\">\n",
    "<h1>Комментарий ревьюера v2 <a class=\"tocSkip\"></a></h1>\n",
    "А какие столбцы? Ниже привел пример того, что новых столбцов не появилось</div>"
   ],
   "metadata": {}
  },
  {
   "cell_type": "markdown",
   "source": [
    "<font color='blue'> <b> Комментарий студента V3. </b>\n",
    "    Я не понимаю, в \"Обучении с учителем\" мы применяли данный метод ко всему датасету. Как надо-то?"
   ],
   "metadata": {}
  },
  {
   "cell_type": "markdown",
   "source": [
    "<div class=\"alert alert-success\">\n",
    "<h1>Комментарий ревьюера v4<a class=\"tocSkip\"></a></h1>\n",
    "В обучении с учителем вы пытались поделить всю выборку на кластеры (если правильно понимаю, о каком  проекте идет речь) (т.е пытались кластеризовать данные). Потом уже, найдя такие кластеры, мы можем обучить классификатор, который для какого-то входного объекта будет говорить, к какому кластеру он принадлежит.\n",
    "\n",
    "Здесь же мы хотим обучить нашу модель на обучающей выборке,а затем протестировать ее качество на скрытых данных (тестовых), чтобы потом, например, применять в продакшене на сервисе. Поэтому в данном случае мы не можем обучать сразу на всех данных наши модели (в том числе standartScaler, ведь мы не имеем доступа к скрытым данным)\n",
    "</div>"
   ],
   "metadata": {}
  },
  {
   "cell_type": "markdown",
   "source": [
    "<div class=\"alert alert-success\">\n",
    "<h1>Комментарий ревьюера v2 <a class=\"tocSkip\"></a></h1>\n",
    "Упустил, стоило еще проверить на дубликаты</div>"
   ],
   "metadata": {}
  },
  {
   "cell_type": "markdown",
   "source": [
    "<div class=\"alert alert-success\">\n",
    "<h1>Комментарий ревьюера <a class=\"tocSkip\"></a></h1>\n",
    "Молодец, хорошая идея произвести масштабирование!</div>"
   ],
   "metadata": {}
  },
  {
   "cell_type": "markdown",
   "source": [
    "Категориальные данные все привели к цифровому формату, провели процедуру масштабирования."
   ],
   "metadata": {}
  },
  {
   "cell_type": "markdown",
   "source": [
    "<div class=\"alert alert-warning\">\n",
    "<h1>Комментарий ревьюера <a class=\"tocSkip\"></a></h1>\n",
    "Не хватает обработки выбросов, потому что они могут повлиять на результат. Например, просмотр основных статистик тебе покажет, что есть машина с годом регистрации 1000, а есть  Power огромный несуществующий... И так далее:)\n",
    "    \n",
    "    Советую глянуть основные статистики датасета;)\n",
    "    </div>"
   ],
   "metadata": {}
  },
  {
   "cell_type": "markdown",
   "source": [
    "<font color='blue'> <b> Комментарий студента V2. </b>\n",
    "    А просмотр всех статитстик датасета имеется ввиду по каждой фиче строить график и смотреть статистику? правильно?"
   ],
   "metadata": {}
  },
  {
   "cell_type": "markdown",
   "source": [
    "<div class=\"alert alert-info\">\n",
    "<h1>Комментарий ревьюера v2 <a class=\"tocSkip\"></a></h1>\n",
    "Ну, метод describe хотя бы:)\n",
    "</div>"
   ],
   "metadata": {}
  },
  {
   "cell_type": "markdown",
   "source": [
    "<div class=\"alert alert-warning\">\n",
    "<h1>Комментарий ревьюера <a class=\"tocSkip\"></a></h1>\n",
    "Что по поводу нулевой стоимости машин:)?\n",
    "</div>"
   ],
   "metadata": {}
  },
  {
   "cell_type": "markdown",
   "source": [
    "<a id='Шаг_2'></a>"
   ],
   "metadata": {}
  },
  {
   "cell_type": "markdown",
   "source": [
    "# <font color='puple'> ШАГ 2. Обучение моделей"
   ],
   "metadata": {}
  },
  {
   "cell_type": "code",
   "execution_count": 32,
   "source": [
    "target = data['Price']\n",
    "features = data.drop(['Price'], axis=1)\n",
    "features_train, features_valid, target_train, target_valid = train_test_split(features, target,\n",
    "                                                                              test_size=0.4,random_state=12345)"
   ],
   "outputs": [],
   "metadata": {}
  },
  {
   "cell_type": "code",
   "execution_count": 33,
   "source": [
    "features_valid, features_test, target_valid, target_test = train_test_split(features_valid, target_valid,\n",
    "                                                                            test_size=0.25,random_state=12345)"
   ],
   "outputs": [],
   "metadata": {}
  },
  {
   "cell_type": "markdown",
   "source": [
    "<div class=\"alert alert-success\">\n",
    "<h1>Комментарий ревьюера v2 <a class=\"tocSkip\"></a></h1>\n",
    "DATA LEAKAGE DETECTED.  У тебя тестовая и валидационная выборка входят в обучающую. Будь вниматльнее:)\n",
    "</div>"
   ],
   "metadata": {}
  },
  {
   "cell_type": "markdown",
   "source": [
    "<font color='blue'> <b> Комментарий студента V3. </b>\n",
    "    Да, спасибо! исправила."
   ],
   "metadata": {}
  },
  {
   "cell_type": "code",
   "execution_count": 34,
   "source": [
    "target_ohe = data_ohe['Price']\n",
    "features_ohe = data_ohe.drop(['Price'], axis=1)\n",
    "features_ohe_train, features_ohe_valid, target_ohe_train, target_ohe_valid = train_test_split(features_ohe, target_ohe,\n",
    "                                                                                              test_size=0.25,random_state=12345)"
   ],
   "outputs": [],
   "metadata": {}
  },
  {
   "cell_type": "code",
   "execution_count": 35,
   "source": [
    "features_ohe_valid, features_ohe_test, target_ohe_valid, target_ohe_test = train_test_split(features_ohe_valid,\n",
    "                                                                                            target_ohe_valid,\n",
    "                                                                                            test_size=0.25,random_state=12345)"
   ],
   "outputs": [],
   "metadata": {}
  },
  {
   "cell_type": "markdown",
   "source": [
    "<div class=\"alert alert-warning\">\n",
    "<h1>Комментарий ревьюера <a class=\"tocSkip\"></a></h1>\n",
    "Я бы все-таки советовал бы разбивать на 3 выборки: тестовую, валидационную и обучаюшую:)</div>"
   ],
   "metadata": {}
  },
  {
   "cell_type": "code",
   "execution_count": 36,
   "source": [
    "scaler = StandardScaler()"
   ],
   "outputs": [],
   "metadata": {}
  },
  {
   "cell_type": "code",
   "execution_count": 37,
   "source": [
    "scaler.fit(features_train)"
   ],
   "outputs": [
    {
     "output_type": "execute_result",
     "data": {
      "text/plain": [
       "StandardScaler(copy=True, with_mean=True, with_std=True)"
      ]
     },
     "metadata": {},
     "execution_count": 37
    }
   ],
   "metadata": {}
  },
  {
   "cell_type": "code",
   "execution_count": 38,
   "source": [
    "features_train = scaler.transform(features_train)\n",
    "features_valid = scaler.transform(features_valid)\n",
    "features_test = scaler.transform(features_test)"
   ],
   "outputs": [],
   "metadata": {}
  },
  {
   "cell_type": "markdown",
   "source": [
    "<div class=\"alert alert-warning\">\n",
    "<h1>Комментарий ревьюера <a class=\"tocSkip\"></a></h1>\n",
    "Подумай, адекватна ли глубина больше 100?  Готов поспорить там как минимум будет дерево максимально переобученное</div>"
   ],
   "metadata": {}
  },
  {
   "cell_type": "code",
   "execution_count": 39,
   "source": [
    "def learning (model,features_train,features_valid,features_test,target_train,target_valid,target_test):\n",
    "    model.fit(features_train,target_train)\n",
    "    predicted_train=model.predict(features_train)\n",
    "    predicted_valid=model.predict(features_valid)\n",
    "    predicted_test=model.predict(features_test)\n",
    "    print('TRAIN', mean_squared_error(target_train,predicted_train)**0.5)\n",
    "    print('VALID', mean_squared_error(target_valid,predicted_valid)**0.5)\n",
    "    print('TEST', mean_squared_error(target_test,predicted_test)**0.5)"
   ],
   "outputs": [],
   "metadata": {}
  },
  {
   "cell_type": "markdown",
   "source": [
    "<div class=\"alert alert-danger\">\n",
    "<h1>Комментарий ревьюера v4 <a class=\"tocSkip\"></a></h1>\n",
    "Только у тебя видимо опечатка, в модель надо добавить аргументы датасетов,..., иначе у тебя сейчас не на ohe обучается регрессия, а на  features_train, features_valid ...\n",
    "</div>"
   ],
   "metadata": {}
  },
  {
   "cell_type": "markdown",
   "source": [
    "<div class=\"alert alert-warning\">\n",
    "<h1>Комментарий ревьюера v4<a class=\"tocSkip\"></a></h1>\n",
    "Странная строчка: model = model :)</div>"
   ],
   "metadata": {}
  },
  {
   "cell_type": "markdown",
   "source": [
    "<div class=\"alert alert-success\">\n",
    "<h1>Комментарий ревьюера v4<a class=\"tocSkip\"></a></h1>\n",
    "Во, теперь огонь:) Осталось чуть поправить:)</div>"
   ],
   "metadata": {}
  },
  {
   "cell_type": "code",
   "execution_count": 46,
   "source": [
    "%%time\n",
    "learning(RandomForestRegressor(n_estimators=90,max_depth=20,random_state=12345),\n",
    "         features_train,features_valid,features_test,\n",
    "         target_train,target_valid,target_test)"
   ],
   "outputs": [
    {
     "output_type": "stream",
     "name": "stdout",
     "text": [
      "TRAIN 799.4495329399672\n",
      "VALID 1659.169161826238\n",
      "TEST 1632.915020401286\n",
      "CPU times: user 1min 22s, sys: 304 ms, total: 1min 23s\n",
      "Wall time: 1min 24s\n"
     ]
    }
   ],
   "metadata": {}
  },
  {
   "cell_type": "code",
   "execution_count": 41,
   "source": [
    "scaler.fit(features_ohe_train)"
   ],
   "outputs": [
    {
     "output_type": "execute_result",
     "data": {
      "text/plain": [
       "StandardScaler(copy=True, with_mean=True, with_std=True)"
      ]
     },
     "metadata": {},
     "execution_count": 41
    }
   ],
   "metadata": {}
  },
  {
   "cell_type": "code",
   "execution_count": 43,
   "source": [
    "features_ohe_train = scaler.transform(features_ohe_train)\n",
    "features_ohe_valid = scaler.transform(features_ohe_valid)\n",
    "features_ohe_test = scaler.transform(features_ohe_test)"
   ],
   "outputs": [],
   "metadata": {}
  },
  {
   "cell_type": "code",
   "execution_count": 44,
   "source": [
    "%%time\n",
    "learning(LinearRegression(),\n",
    "         features_ohe_train,features_ohe_valid,features_ohe_test,\n",
    "         target_ohe_train,target_ohe_valid,target_ohe_test)"
   ],
   "outputs": [
    {
     "output_type": "stream",
     "name": "stdout",
     "text": [
      "TRAIN 2614.780689428986\n",
      "VALID 2600.7855712699907\n",
      "TEST 2602.754817398814\n",
      "CPU times: user 18.7 s, sys: 5.76 s, total: 24.4 s\n",
      "Wall time: 24.5 s\n"
     ]
    }
   ],
   "metadata": {}
  },
  {
   "cell_type": "code",
   "execution_count": null,
   "source": [],
   "outputs": [],
   "metadata": {}
  },
  {
   "cell_type": "markdown",
   "source": [
    "<div class=\"alert alert-info\">\n",
    "<h1>Комментарий ревьюера  v2<a class=\"tocSkip\"></a></h1>\n",
    "Стало много кода, который, как я вижу, тяжелее редактировать, да и читаемость становится хуже. Тут полезно было бы завести отдельную функцию, в которой был бы общий код:) Дабы не дублировать функциональность:)</div>"
   ],
   "metadata": {}
  },
  {
   "cell_type": "markdown",
   "source": [
    "<font color='blue'> <b> Комментарий студента V2. </b>\n",
    "    А подскажи, плз, что показывает этот coef_? Почитала, что это у нас b1 для каждого признака. но что говорят именно сами цифры? какими они должны быть?что-то не оч понятно"
   ],
   "metadata": {}
  },
  {
   "cell_type": "code",
   "execution_count": null,
   "source": [
    "# model2.coef_"
   ],
   "outputs": [],
   "metadata": {}
  },
  {
   "cell_type": "markdown",
   "source": [
    "<div class=\"alert alert-info\">\n",
    "<h1>Комментарий ревьюера  v2<a class=\"tocSkip\"></a></h1>\n",
    "Ну у тебя как считается результат: $x_1*coef_1.+ ...coef_i* x_i$. Соответственно, если у тебя вес в районе нуля, то модель этот признак не использует по факту в расчетах (он не влияет на финальный результат).\n",
    "    \n",
    "Например, здесь это коэф 1.42108547e-14, который относится как раз таки DataCreated:))    \n",
    "</div>"
   ],
   "metadata": {}
  },
  {
   "cell_type": "markdown",
   "source": [
    "<div class=\"alert alert-info\">\n",
    "<h1>Комментарий ревьюера <a class=\"tocSkip\"></a></h1>\n",
    "Советую посмотреть на веса модели через метод coef --- будет полезно;)\n",
    "</div>"
   ],
   "metadata": {}
  },
  {
   "cell_type": "code",
   "execution_count": null,
   "source": [],
   "outputs": [],
   "metadata": {}
  },
  {
   "cell_type": "markdown",
   "source": [
    "<div class=\"alert alert-info\">\n",
    "<h1>Комментарий ревьюера <a class=\"tocSkip\"></a></h1>\n",
    "Вроде как мы решили, что эти признаки и не нужны для модели?</div>"
   ],
   "metadata": {}
  },
  {
   "cell_type": "markdown",
   "source": [
    "<font color='blue'> <b> Комментарий студента V1. </b>\n",
    "    Плюс я совсем запуталась с lgb, в документации написано, что ему можно подавать категориальные переменные, задав для них отдельный список, однако, потом вылазит ошибка именно категориальных переменных. Также есть инфа в инете, что в lgb на самом деле нужно подавать уже преобразованные в int категориальные переменные..."
   ],
   "metadata": {}
  },
  {
   "cell_type": "code",
   "execution_count": 42,
   "source": [
    "cat_features = ['VehicleType', 'Gearbox',\n",
    "                'Model', 'FuelType', 'Brand', 'NotRepaired']"
   ],
   "outputs": [],
   "metadata": {}
  },
  {
   "cell_type": "markdown",
   "source": [
    "<div class=\"alert alert-success\">\n",
    "<h1>Комментарий ревьюера <a class=\"tocSkip\"></a></h1>\n",
    "Ты про LGBMRegressor регрессор? Ну привести к category: astype(cat) . Если правильно понял твой вопрос\n",
    "</div>"
   ],
   "metadata": {}
  },
  {
   "cell_type": "code",
   "execution_count": 43,
   "source": [
    "train_data = lgb.Dataset(features_train, label=target_train, categorical_feature=cat_features)\n",
    "valid_data = lgb.Dataset(features_valid, label=target_valid)\n",
    "test_data = lgb.Dataset(features_test, label=target_test)"
   ],
   "outputs": [],
   "metadata": {}
  },
  {
   "cell_type": "code",
   "execution_count": 44,
   "source": [
    "parameters = {\n",
    "    \n",
    "    'num_leaves': 31,\n",
    "    'feature_fraction': 0.5,\n",
    "    'bagging_fraction': 0.5,\n",
    "    'bagging_freq': 20,\n",
    "    'learning_rate': 0.05,\n",
    "    'verbose': 0\n",
    "}"
   ],
   "outputs": [],
   "metadata": {}
  },
  {
   "cell_type": "code",
   "execution_count": 45,
   "source": [
    "%%time\n",
    "bst = lgb.train(parameters, train_data, valid_sets=valid_data)\n",
    "predictions = bst.predict(features_valid)"
   ],
   "outputs": [
    {
     "output_type": "stream",
     "name": "stderr",
     "text": [
      "/opt/conda/lib/python3.7/site-packages/lightgbm/basic.py:1291: UserWarning: Using categorical_feature in Dataset.\n",
      "  warnings.warn('Using categorical_feature in Dataset.')\n",
      "/opt/conda/lib/python3.7/site-packages/lightgbm/basic.py:1295: UserWarning: categorical_feature in Dataset is overridden.\n",
      "New categorical_feature is ['Brand', 'FuelType', 'Gearbox', 'Model', 'NotRepaired', 'VehicleType']\n",
      "  'New categorical_feature is {}'.format(sorted(list(categorical_feature))))\n"
     ]
    },
    {
     "output_type": "stream",
     "name": "stdout",
     "text": [
      "CPU times: user 56 s, sys: 32.7 ms, total: 56 s\n",
      "Wall time: 56.5 s\n"
     ]
    }
   ],
   "metadata": {}
  },
  {
   "cell_type": "code",
   "execution_count": 46,
   "source": [
    "%%time\n",
    "predictions_test = bst.predict(features_test)"
   ],
   "outputs": [
    {
     "output_type": "stream",
     "name": "stdout",
     "text": [
      "CPU times: user 469 ms, sys: 0 ns, total: 469 ms\n",
      "Wall time: 497 ms\n"
     ]
    }
   ],
   "metadata": {}
  },
  {
   "cell_type": "code",
   "execution_count": 47,
   "source": [
    "print(mean_squared_error(target_valid,predictions)**0.5)\n",
    "print(mean_squared_error(target_test,predictions_test)**0.5)"
   ],
   "outputs": [
    {
     "output_type": "stream",
     "name": "stdout",
     "text": [
      "1710.6490990750506\n",
      "1685.719467842759\n"
     ]
    }
   ],
   "metadata": {}
  },
  {
   "cell_type": "markdown",
   "source": [
    "<div class=\"alert alert-warning\">\n",
    "<h1>Комментарий ревьюера <a class=\"tocSkip\"></a></h1>\n",
    "Получаются подозрительно хорошие модели, пока не нашел, ошибку, но после твоих исправлений в след итерации еще раз детально посмотрю\n",
    "    </div>"
   ],
   "metadata": {}
  },
  {
   "cell_type": "markdown",
   "source": [
    "<div class=\"alert alert-danger\">\n",
    "<h1>Комментарий ревьюера v2 <a class=\"tocSkip\"></a></h1>\n",
    "Фуф, это было нелегко, но я нашел! \n",
    "    \n",
    "    1)Смотри, ты обучаешь scaler на всей выборке, но ведь так нельзя делать! Мы ведь не можем обучаться на данных, которых не знаем (тестовые данные)\n",
    "    \n",
    "    2) DATA LEAKAGE DETECTED.  У тебя тестовая и валидационная выборка входят в обучающую. Будь внимательнее:) Поэтому такие идеальные варианты\n",
    "    </div>"
   ],
   "metadata": {}
  },
  {
   "cell_type": "markdown",
   "source": [
    "<font color='blue'> <b> Комментарий студента V3. </b>\n",
    "    ВСе сделала как ты сказал, плюс попыталась привести в удобочитаемый вид. Написала функцию для моделей - линейная регрессия теперь отрпабатывает и дает ужасающий результат на тестовой выборке. \n",
    "    У меня теперь снова вопрос по Light GBM, смотри для того чтобы обучить его, я снова разбиваю данные на валидационную и тренинговую выборки. Если этого не делать, т.е. пользоваться теми данными, что мы разбили раньше, почему-то выдается ошибка.Правильно ли так делать? и еще вопрос про тестовую выборку, здесь тоже лучше разбивать на три части?\n",
    "   "
   ],
   "metadata": {}
  },
  {
   "cell_type": "markdown",
   "source": [
    "<div class=\"alert alert-danger\">\n",
    "<h1>Комментарий ревьюера v4 <a class=\"tocSkip\"></a></h1>\n",
    "1) Ужасающий результат: А это потому что ты забыла через масштабирование признаков пропустить тестовые данные:) (transform забыла)\n",
    "    \n",
    "2)  Аналогично 3 вопросу:)  А что именно за ошибку? Обычно природа ошибки становится сразу понятна, если посмотреть детали ошибки (вывод)    \n",
    "    \n",
    "3) Про разбитие тестовой на три части не совсем понял:) Ну стандартно у тебя 60:20:20 (обучающая, валид, тест). Если данных очень много то тестовую часть делают еще меньше.  А зачем тестовую еще дальше делить?)\n",
    "        </div>"
   ],
   "metadata": {}
  },
  {
   "cell_type": "markdown",
   "source": [
    "<span style='background:yellow'><font color='blue'> <b> Комментарий студента V4. </b>\n",
    "    1) После замечания я пропустила через масштабирование тестовые признаки тоже, но результат также ужасающий.\n",
    "    2) Теперь все работает.. не знаю, глюк был какой-то\n",
    "    3) Нене, там все было к той же выскаивающей ошибке, вопрос снят.\n",
    "    </span>"
   ],
   "metadata": {}
  },
  {
   "cell_type": "markdown",
   "source": [
    "<div class=\"alert alert-success\">\n",
    "<h1>Комментарий ревьюера v2 <a class=\"tocSkip\"></a></h1>\n",
    "Тогда с тебя правки того, что выше + приведи код в читаемый вид, а то сейчас очень сумбурно выглядит, я даже запустить не смог полностью:)\n",
    "    \n",
    "Вроде ответил на все вопросы что увидел. Лучше их также в комментарии оформляй, тогда их точно не пропустить;)\n",
    "    \n",
    "Я в тебя верю:)\n",
    "</div>"
   ],
   "metadata": {}
  },
  {
   "cell_type": "markdown",
   "source": [
    "<a id='Шаг_3'></a>"
   ],
   "metadata": {}
  },
  {
   "cell_type": "markdown",
   "source": [
    "# <font color='purple'> ШАГ 3. Анализ моделей</font>"
   ],
   "metadata": {}
  },
  {
   "cell_type": "markdown",
   "source": [
    "<div class=\"alert alert-info\">\n",
    "<h1>Комментарий ревьюера <a class=\"tocSkip\"></a></h1>\n",
    "Круто было бы иметь финальную табличку, было бы наглядно:)\n",
    "</div>"
   ],
   "metadata": {}
  },
  {
   "cell_type": "code",
   "execution_count": null,
   "source": [
    "#финальную табличку сравнения моделей?"
   ],
   "outputs": [],
   "metadata": {}
  },
  {
   "cell_type": "markdown",
   "source": [
    "<div class=\"alert alert-info\">\n",
    "<h1>Комментарий ревьюера v2 <a class=\"tocSkip\"></a></h1>\n",
    "Yeap\n",
    "</div>"
   ],
   "metadata": {}
  },
  {
   "cell_type": "markdown",
   "source": [
    "<font color='blue'> <b> Комментарий студента V2. </b>\n",
    "    Итак, качество модели даже без подбора лучших параметров лучше у RandomForest, хотя по скорости это самая медленная модель. \n",
    "LightGBM работает гороаздо быстрее, но на тестовой выборке показал какой-то совсем плохой вариант. "
   ],
   "metadata": {}
  },
  {
   "cell_type": "markdown",
   "source": [
    "<div class=\"alert alert-success\">\n",
    "<h1>Комментарий ревьюера v4<a class=\"tocSkip\"></a></h1>\n",
    "Думаю, мы на финишной прямой, осталось поправить последние красные замечания под версией v4.\n",
    "В остальном, стало намного лучше:) Остался маленький шажок!\n",
    "\n",
    "</div>"
   ],
   "metadata": {}
  },
  {
   "cell_type": "markdown",
   "source": [
    "<div class=\"alert alert-info\">\n",
    "<h1>Комментарий ревьюера <a class=\"tocSkip\"></a></h1>\n",
    "Еще можно было бы реализовать дамми модель для сравнения\n",
    "</div>"
   ],
   "metadata": {}
  },
  {
   "cell_type": "markdown",
   "source": [
    "<div class=\"alert alert-success\">\n",
    "\n",
    "<h1>Комментарий ревьюера v5 <a class=\"tocSkip\"></a></h1>\n",
    "Ура, успех!\n",
    "</div>"
   ],
   "metadata": {}
  },
  {
   "cell_type": "markdown",
   "source": [
    "## Чек-лист проверки"
   ],
   "metadata": {}
  },
  {
   "cell_type": "markdown",
   "source": [
    "<div class=\"alert alert-success\">\n",
    "<h2> Комментарий ревьюера</h2>\n",
    "\n",
    "-Спасибо за качественно сделанный проект, было приятно проверять. \n",
    "\n",
    "- Видно, что приложено много усилий\n",
    "\n",
    "- Код написан хорошо \n",
    "\n",
    "- Соблюдена структура проекта \n",
    "    \n",
    "- Также оставил пару замечаний и советов\n",
    "\n",
    "- К сожалению есть пара критических замечаний, которые нужно поправить. Будут вопросы - пиши;)\n",
    "\n",
    "C нетерпением жду твоих исправлений!:)\n",
    "\n",
    "</div>"
   ],
   "metadata": {}
  },
  {
   "cell_type": "markdown",
   "source": [
    "Поставьте 'x' в выполненных пунктах. Далее нажмите Shift+Enter."
   ],
   "metadata": {}
  },
  {
   "cell_type": "markdown",
   "source": [
    "- [x]  Jupyter Notebook открыт\n",
    "- [ ]  Весь код выполняется без ошибок\n",
    "- [ ]  Ячейки с кодом расположены в порядке исполнения\n",
    "- [ ]  Выполнена загрузка и подготовка данных\n",
    "- [ ]  Выполнено обучение моделей\n",
    "- [ ]  Есть анализ скорости работы и качества моделей"
   ],
   "metadata": {}
  },
  {
   "cell_type": "code",
   "execution_count": null,
   "source": [],
   "outputs": [],
   "metadata": {}
  }
 ],
 "metadata": {
  "kernelspec": {
   "display_name": "Python 3",
   "language": "python",
   "name": "python3"
  },
  "language_info": {
   "codemirror_mode": {
    "name": "ipython",
    "version": 3
   },
   "file_extension": ".py",
   "mimetype": "text/x-python",
   "name": "python",
   "nbconvert_exporter": "python",
   "pygments_lexer": "ipython3",
   "version": "3.7.8"
  },
  "toc": {
   "base_numbering": 1,
   "nav_menu": {},
   "number_sections": true,
   "sideBar": true,
   "skip_h1_title": true,
   "title_cell": "Table of Contents",
   "title_sidebar": "Contents",
   "toc_cell": false,
   "toc_position": {},
   "toc_section_display": true,
   "toc_window_display": false
  }
 },
 "nbformat": 4,
 "nbformat_minor": 2
}